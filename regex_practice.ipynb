{
  "cells": [
    {
      "cell_type": "markdown",
      "metadata": {
        "id": "view-in-github",
        "colab_type": "text"
      },
      "source": [
        "<a href=\"https://colab.research.google.com/github/kavithachitriki/SCALER_PRACTICE/blob/main/regex_practice.ipynb\" target=\"_parent\"><img src=\"https://colab.research.google.com/assets/colab-badge.svg\" alt=\"Open In Colab\"/></a>"
      ]
    },
    {
      "cell_type": "code",
      "execution_count": null,
      "metadata": {
        "colab": {
          "base_uri": "https://localhost:8080/"
        },
        "id": "Tq9CSBkbC4kA",
        "outputId": "da8f8a80-38a9-40d8-c111-4557c0415439"
      },
      "outputs": [
        {
          "name": "stdout",
          "output_type": "stream",
          "text": [
            "Downloading...\n",
            "From: https://drive.google.com/uc?id=1sSDV5UspYZL3UUOGuiuxppSGcv1wS9ex\n",
            "To: /content/data.txt\n",
            "\r  0% 0.00/9.33k [00:00<?, ?B/s]\r100% 9.33k/9.33k [00:00<00:00, 23.2MB/s]\n"
          ]
        }
      ],
      "source": [
        "!gdown 1sSDV5UspYZL3UUOGuiuxppSGcv1wS9ex\n",
        "\n"
      ]
    },
    {
      "cell_type": "code",
      "execution_count": null,
      "metadata": {
        "id": "RrFkS63DaDnl"
      },
      "outputs": [],
      "source": [
        "data = open(\"data.txt\",\"r\").read()"
      ]
    },
    {
      "cell_type": "code",
      "execution_count": null,
      "metadata": {
        "colab": {
          "base_uri": "https://localhost:8080/"
        },
        "id": "LRLAgdz8aDp6",
        "outputId": "1a1700d9-1465-4fab-d293-b19c6e6b3810"
      },
      "outputs": [
        {
          "data": {
            "text/plain": [
              "str"
            ]
          },
          "execution_count": 4,
          "metadata": {},
          "output_type": "execute_result"
        }
      ],
      "source": [
        "type(data)"
      ]
    },
    {
      "cell_type": "code",
      "execution_count": null,
      "metadata": {
        "colab": {
          "base_uri": "https://localhost:8080/"
        },
        "id": "yrxDJmNLaDsT",
        "outputId": "0b88790d-02d1-4fb5-ec4a-584b785ffbef"
      },
      "outputs": [
        {
          "name": "stdout",
          "output_type": "stream",
          "text": [
            "Dave Martin\n",
            "615-555-7164\n",
            "173 Main St., Springfield RI 55924\n",
            "davemartin@bogusemail.com\n",
            "\n",
            "Charles Harris\n",
            "800-555-5669\n",
            "969 High St., Atlantis VA 34075\n",
            "charlesharris@bogusemail.com\n",
            "\n",
            "Eric Williams\n",
            "560-555-5153\n",
            "806 1st St., Faketown AK 86847\n",
            "laurawilliams@bogusemail.com\n",
            "\n",
            "Corey Jefferson\n",
            "900-555-9340\n",
            "826 Elm St., Epicburg NE 10671\n",
            "coreyjefferson@bogusemail.com\n",
            "\n",
            "Jennifer Martin-White\n",
            "714-555-7405\n",
            "212 Cedar St., Sunnydale CT 74983\n",
            "jenniferwhite@bogusemail.com\n",
            "\n",
            "Erick Davis\n",
            "800-555-6771\n",
            "519 Washington St., \n"
          ]
        }
      ],
      "source": [
        "print(data[:500])"
      ]
    },
    {
      "cell_type": "code",
      "execution_count": null,
      "metadata": {
        "id": "fHLQnktLaDuo"
      },
      "outputs": [],
      "source": [
        "def mask_email(s):\n",
        "  if \"@\" in s:\n",
        "    name,domain=s.split(\"@\")\n",
        "  return f\"{name[0]}######{name[-1]}@{domain}\""
      ]
    },
    {
      "cell_type": "code",
      "execution_count": null,
      "metadata": {
        "colab": {
          "base_uri": "https://localhost:8080/",
          "height": 35
        },
        "id": "tIMQwNXmaDw-",
        "outputId": "54435f0c-e0ee-465a-cc0e-6dad58d799d0"
      },
      "outputs": [
        {
          "data": {
            "application/vnd.google.colaboratory.intrinsic+json": {
              "type": "string"
            },
            "text/plain": [
              "'a######d@ggg.com'"
            ]
          },
          "execution_count": 7,
          "metadata": {},
          "output_type": "execute_result"
        }
      ],
      "source": [
        "mask_email(\"abcdedd@ggg.com\")"
      ]
    },
    {
      "cell_type": "code",
      "execution_count": null,
      "metadata": {
        "id": "vgS9jny1aDzJ"
      },
      "outputs": [],
      "source": []
    },
    {
      "cell_type": "code",
      "execution_count": null,
      "metadata": {
        "id": "Rkf0mH7xaD1d"
      },
      "outputs": [],
      "source": [
        "import re\n",
        "def is_vemail(s):\n",
        "  email_pattern = \"^\\w+([\\.-]?\\w+)*@\\w+([\\.-]?\\w+)*(\\.\\w{2,3})+$\"\n",
        "  res = re.search(email_pattern, s)\n",
        "  if res:\n",
        "    return True\n",
        "  else:\n",
        "      return False\n"
      ]
    },
    {
      "cell_type": "code",
      "execution_count": null,
      "metadata": {
        "colab": {
          "base_uri": "https://localhost:8080/"
        },
        "id": "_jBMYXXIaD3t",
        "outputId": "ab5d7402-766d-44a9-a24d-824adcaf5f45"
      },
      "outputs": [
        {
          "data": {
            "text/plain": [
              "True"
            ]
          },
          "execution_count": 9,
          "metadata": {},
          "output_type": "execute_result"
        }
      ],
      "source": [
        "is_vemail(\"ka@gmail.com\")"
      ]
    },
    {
      "cell_type": "code",
      "execution_count": null,
      "metadata": {
        "colab": {
          "base_uri": "https://localhost:8080/"
        },
        "id": "aTxBLl5vaD5x",
        "outputId": "739daea9-57d1-433d-ed06-646bec9bd147"
      },
      "outputs": [
        {
          "name": "stdout",
          "output_type": "stream",
          "text": [
            "<re.Match object; span=(0, 15), match='abcd@iisc.ac.in'>\n"
          ]
        }
      ],
      "source": [
        "regex = '^\\w+([\\.-]?\\w+)*@\\w+([\\.-]?\\w+)*(\\.\\w{2,3})+$' # highly non-readbale code\n",
        "\n",
        "#https://docs.python.org/2/library/re.html\n",
        "regex_verbose = re.compile(r\"\"\"           # VERY readable and easy to understand. Software maintanability.\n",
        "            ^\\w+([\\.-]?\\w+)*              # start, \\w+, \n",
        "            @                             # single @ sign \n",
        "            \\w+([\\.-]?\\w+)*               # Domain name \n",
        "            (\\.\\w{2,3})+$                 # .com, .ac.in,    \n",
        "             \"\"\",re.VERBOSE | re.IGNORECASE)   # no need to worry about these flags for now       \n",
        "\n",
        "res = regex_verbose.match(\"abcd@iisc.ac.in\"); \n",
        "print(res)"
      ]
    },
    {
      "cell_type": "code",
      "execution_count": null,
      "metadata": {
        "id": "0VX4JrROaD76"
      },
      "outputs": [],
      "source": [
        "pattern=\"\\d{3}-\\d{3}-\\d{4}\"\n",
        "re.match(pattern,data)"
      ]
    },
    {
      "cell_type": "code",
      "execution_count": null,
      "metadata": {
        "colab": {
          "base_uri": "https://localhost:8080/"
        },
        "id": "k24G3iKTaD-M",
        "outputId": "6a14fcb3-df7b-45d8-82e9-ad96c843787e"
      },
      "outputs": [
        {
          "name": "stdout",
          "output_type": "stream",
          "text": [
            "['615-555-7164', '800-555-5669', '560-555-5153', '900-555-9340', '714-555-7405', '800-555-6771', '783-555-4799', '516-555-4615', '127-555-1867', '608-555-4938', '568-555-6051', '292-555-1875', '900-555-3205', '614-555-1166', '530-555-2676', '470-555-2750', '800-555-6089', '880-555-8319', '777-555-8378', '998-555-7385', '800-555-7100', '903-555-8277', '196-555-5674', '900-555-5118', '905-555-1630', '203-555-3475', '884-555-8444', '904-555-8559', '889-555-7393', '195-555-2405', '321-555-9053', '133-555-1711', '900-555-5428', '760-555-7147', '391-555-6621', '932-555-7724', '609-555-7908', '800-555-8810', '149-555-7657', '130-555-9709', '143-555-9295', '903-555-9878', '574-555-3194', '496-555-7533', '210-555-3757', '900-555-9598', '866-555-9844', '669-555-7159', '152-555-7417', '893-555-9832', '217-555-7123', '786-555-6544', '780-555-2574', '926-555-8735', '895-555-3539', '874-555-3949', '800-555-2420', '936-555-6340', '372-555-9809', '890-555-5618', '670-555-3005', '509-555-5997', '721-555-5632', '900-555-3567', '147-555-6830', '582-555-3426', '400-555-1706', '525-555-1793', '317-555-6700', '974-555-8301', '800-555-3216', '746-555-4094', '922-555-1773', '711-555-4427', '355-555-1872', '852-555-6521', '691-555-5773', '332-555-5441', '900-555-7755', '379-555-3685', '127-555-9682', '789-555-7032', '783-555-5135', '315-555-6507', '481-555-5835', '365-555-8287', '911-555-7535', '681-555-2460', '274-555-9800', '800-555-1372', '300-555-7821', '133-555-3889', '705-555-6863', '215-555-9449', '988-555-6112', '623-555-3006', '192-555-4977', '178-555-4899', '952-555-3089', '900-555-6426']\n"
          ]
        }
      ],
      "source": [
        "pattern=\"\\d{3}-\\d{3}-\\d{4}\"\n",
        "re.findall(pattern,data)"
      ]
    },
    {
      "cell_type": "code",
      "execution_count": null,
      "metadata": {
        "colab": {
          "base_uri": "https://localhost:8080/"
        },
        "id": "yM8Fhx8qaEAn",
        "outputId": "2d05cf28-1393-4fce-8aaf-321b9aa247ec"
      },
      "outputs": [
        {
          "name": "stdout",
          "output_type": "stream",
          "text": [
            "12 24 615-555-7164\n",
            "102 114 800-555-5669\n",
            "191 203 560-555-5153\n",
            "281 293 900-555-9340\n",
            "378 390 714-555-7405\n",
            "467 479 800-555-6771\n"
          ]
        }
      ],
      "source": [
        "pattern=\"\\d{3}-\\d{3}-\\d{4}\"\n",
        "numbers=re.finditer(pattern,data)\n",
        "for i,number in enumerate(numbers):\n",
        "  print(number.start(),number.end(),number.group())\n",
        "  if i ==5:\n",
        "    break\n",
        "  "
      ]
    },
    {
      "cell_type": "code",
      "execution_count": null,
      "metadata": {
        "id": "VHqobutCaEC6"
      },
      "outputs": [],
      "source": [
        "pattern = '^\\w+([\\.-]?\\w+)*@\\w+([\\.-]?\\w+)*(\\.\\w{2,3})+' # highly non-readbale code\n",
        "emails=re.finditer(pattern,data)\n",
        "for i,email in enumerate(emails):\n",
        "  print(email.start(),email.end(),email.group(0))\n",
        "  if i ==5:\n",
        "    break"
      ]
    },
    {
      "cell_type": "code",
      "execution_count": null,
      "metadata": {
        "colab": {
          "base_uri": "https://localhost:8080/"
        },
        "id": "LdLCHFuqaEFU",
        "outputId": "6943376c-559a-424a-abd1-a727b23b63b7"
      },
      "outputs": [
        {
          "name": "stdout",
          "output_type": "stream",
          "text": [
            "60 85 davemartin@bogusemail.com davemartin bogusemail\n",
            "147 175 charlesharris@bogusemail.com charlesharris bogusemail\n",
            "235 263 laurawilliams@bogusemail.com laurawilliams bogusemail\n",
            "325 354 coreyjefferson@bogusemail.com coreyjefferson bogusemail\n",
            "425 453 jenniferwhite@bogusemail.com jenniferwhite bogusemail\n",
            "517 540 tomdavis@bogusemail.com tomdavis bogusemail\n"
          ]
        }
      ],
      "source": [
        "pattern = \"(\\w+)([\\.-]?\\w+)*@(\\w+)([\\.-]?\\w+)*(\\.\\w{2,3})+\"\n",
        "emails = re.finditer(pattern, data)\n",
        "for i, email in enumerate(emails):\n",
        "    # print(number.start(), number.end(), data[number.start(): number.end()+1])\n",
        "    print(email.start(), email.end(), email.group(0), email.group(1), email.group(3))\n",
        "    if i == 5:\n",
        "        break"
      ]
    },
    {
      "cell_type": "code",
      "execution_count": null,
      "metadata": {
        "colab": {
          "base_uri": "https://localhost:8080/"
        },
        "id": "Y55xw9sFaEHu",
        "outputId": "fad7d3e5-9035-4eb1-eb51-476d86655958"
      },
      "outputs": [
        {
          "name": "stdout",
          "output_type": "stream",
          "text": [
            "<re.Match object; span=(0, 11), match='Dave Martin'>\n",
            "<re.Match object; span=(87, 101), match='Charles Harris'>\n",
            "<re.Match object; span=(177, 190), match='Eric Williams'>\n",
            "<re.Match object; span=(265, 280), match='Corey Jefferson'>\n",
            "<re.Match object; span=(356, 371), match='Jennifer Martin'>\n",
            "<re.Match object; span=(455, 466), match='Erick Davis'>\n"
          ]
        }
      ],
      "source": [
        "pattern = '[A-Z][a-z]*\\s[A-Z][a-z]{2,}'\n",
        "\n",
        "names = re.finditer(pattern,data)\n",
        "for i, name in enumerate(names):\n",
        "  print(name)\n",
        "  if i == 5:\n",
        "    break"
      ]
    },
    {
      "cell_type": "code",
      "execution_count": null,
      "metadata": {
        "colab": {
          "background_save": true
        },
        "id": "GNsMknpuaEKB",
        "outputId": "86c67a15-5f1e-42c7-c056-35de11dda88f"
      },
      "outputs": [
        {
          "name": "stdout",
          "output_type": "stream",
          "text": [
            "<re.Match object; span=(0, 20), match='SpringField RI 55924'> 55924\n"
          ]
        }
      ],
      "source": []
    },
    {
      "cell_type": "code",
      "execution_count": null,
      "metadata": {
        "id": "UD5vOIMxaEMU"
      },
      "outputs": [],
      "source": []
    },
    {
      "cell_type": "code",
      "execution_count": null,
      "metadata": {
        "id": "uskGR14BaEOk"
      },
      "outputs": [],
      "source": []
    },
    {
      "cell_type": "code",
      "execution_count": null,
      "metadata": {
        "colab": {
          "base_uri": "https://localhost:8080/"
        },
        "id": "WkIDGklwaEQ4",
        "outputId": "ee32b824-828d-4cde-de80-359e761180cb"
      },
      "outputs": [
        {
          "name": "stdout",
          "output_type": "stream",
          "text": [
            "--2023-05-17 10:49:43--  https://drive.google.com/uc?export=download&id=1etozIXX1Wly8bIFgs4bsJbREcW4jpeG0\n",
            "Resolving drive.google.com (drive.google.com)... 173.194.203.113, 173.194.203.101, 173.194.203.139, ...\n",
            "Connecting to drive.google.com (drive.google.com)|173.194.203.113|:443... connected.\n",
            "HTTP request sent, awaiting response... 303 See Other\n",
            "Location: https://doc-10-68-docs.googleusercontent.com/docs/securesc/ha0ro937gcuc7l7deffksulhg5h7mbp1/0ten106i5frol81uu48bbt2hmrkfh15j/1684320525000/14302370361230157278/*/1etozIXX1Wly8bIFgs4bsJbREcW4jpeG0?e=download&uuid=d5122a61-0783-4ead-ba41-b9fc24b10a81 [following]\n",
            "Warning: wildcards not supported in HTTP.\n",
            "--2023-05-17 10:49:43--  https://doc-10-68-docs.googleusercontent.com/docs/securesc/ha0ro937gcuc7l7deffksulhg5h7mbp1/0ten106i5frol81uu48bbt2hmrkfh15j/1684320525000/14302370361230157278/*/1etozIXX1Wly8bIFgs4bsJbREcW4jpeG0?e=download&uuid=d5122a61-0783-4ead-ba41-b9fc24b10a81\n",
            "Resolving doc-10-68-docs.googleusercontent.com (doc-10-68-docs.googleusercontent.com)... 142.250.99.132, 2607:f8b0:400e:c0c::84\n",
            "Connecting to doc-10-68-docs.googleusercontent.com (doc-10-68-docs.googleusercontent.com)|142.250.99.132|:443... connected.\n",
            "HTTP request sent, awaiting response... 200 OK\n",
            "Length: 43627 (43K) [application/pdf]\n",
            "Saving to: ‘invoice.pdf’\n",
            "\n",
            "invoice.pdf         100%[===================>]  42.60K  --.-KB/s    in 0s      \n",
            "\n",
            "2023-05-17 10:49:43 (114 MB/s) - ‘invoice.pdf’ saved [43627/43627]\n",
            "\n"
          ]
        }
      ],
      "source": [
        "!wget \"https://drive.google.com/uc?export=download&id=1etozIXX1Wly8bIFgs4bsJbREcW4jpeG0\" -O invoice.pdf"
      ]
    },
    {
      "cell_type": "code",
      "execution_count": null,
      "metadata": {
        "colab": {
          "base_uri": "https://localhost:8080/"
        },
        "id": "3bfvQjC2aETL",
        "outputId": "1770449c-9dbb-418e-9492-2b1dac2d1fb2"
      },
      "outputs": [
        {
          "name": "stdout",
          "output_type": "stream",
          "text": [
            "Looking in indexes: https://pypi.org/simple, https://us-python.pkg.dev/colab-wheels/public/simple/\n",
            "Collecting pyPDF4\n",
            "  Downloading PyPDF4-1.27.0.tar.gz (63 kB)\n",
            "\u001b[2K     \u001b[90m━━━━━━━━━━━━━━━━━━━━━━━━━━━━━━━━━━━━━━━━\u001b[0m \u001b[32m63.9/63.9 kB\u001b[0m \u001b[31m3.5 MB/s\u001b[0m eta \u001b[36m0:00:00\u001b[0m\n",
            "\u001b[?25h  Preparing metadata (setup.py) ... \u001b[?25l\u001b[?25hdone\n",
            "Building wheels for collected packages: pyPDF4\n",
            "  Building wheel for pyPDF4 (setup.py) ... \u001b[?25l\u001b[?25hdone\n",
            "  Created wheel for pyPDF4: filename=PyPDF4-1.27.0-py3-none-any.whl size=61227 sha256=c0fecb4b14da83203df457bac38c57db217d58aef4b415156a88d1be93c73dc4\n",
            "  Stored in directory: /root/.cache/pip/wheels/83/cc/14/cb307e5c99235c4497c7895cdb60b4f7ba2a738b6a5fc0d423\n",
            "Successfully built pyPDF4\n",
            "Installing collected packages: pyPDF4\n",
            "Successfully installed pyPDF4-1.27.0\n"
          ]
        }
      ],
      "source": [
        "!pip3 install pyPDF4"
      ]
    },
    {
      "cell_type": "code",
      "execution_count": null,
      "metadata": {
        "id": "i3UyIlHTaEVT"
      },
      "outputs": [],
      "source": [
        "import PyPDF4"
      ]
    },
    {
      "cell_type": "code",
      "execution_count": null,
      "metadata": {
        "colab": {
          "base_uri": "https://localhost:8080/"
        },
        "id": "PFuH7n3qaEXd",
        "outputId": "fea1183d-9fe7-4cb3-ce09-3d7740965abe"
      },
      "outputs": [
        {
          "name": "stdout",
          "output_type": "stream",
          "text": [
            "Invoice\n",
            "Payment is due within 30 days from date of invoice. Late payment is subject to fees of 5% per month.\n",
            "Thanks for choosing \n",
            "DEMO - Sliced Invoices\n",
            " | \n",
            "admin@slicedinvoices.com\n",
            "Page 1/1\n",
            "From:\n",
            "DEMO - Sliced Invoices\n",
            "Suite 5A-1204\n",
            "123 Somewhere Street\n",
            "Your City AZ 12345\n",
            "admin@slicedinvoices.com\n",
            "Invoice Number\n",
            "INV-3337\n",
            "Order Number\n",
            "12345\n",
            "Invoice Date\n",
            "January 25, 2016\n",
            "Due Date\n",
            "January 31, 2016\n",
            "Total Due\n",
            "$93.50\n",
            "To:\n",
            "Test Business\n",
            "123 Somewhere St\n",
            "Melbourne, VIC 3000\n",
            "test@test.com\n",
            "Hrs/Qty\n",
            "Service\n",
            "Rate/Price\n",
            "Adjust\n",
            "Sub Total\n",
            "1.00\n",
            "Web Design\n",
            "This is a sample description...\n",
            "$85.00\n",
            "0.00%\n",
            "$85.00\n",
            "Sub Total\n",
            "$85.00\n",
            "Tax\n",
            "$8.50\n",
            "Total\n",
            "$93.50\n",
            "ANZ Bank\n",
            "ACC # 1234 1234\n",
            "BSB # 4321 432\n",
            "Paid\n",
            "\n"
          ]
        }
      ],
      "source": [
        "with open('invoice.pdf', mode='rb') as f:\n",
        "  reader=PyPDF4.PdfFileReader(f)\n",
        "  page=reader.getPage(0)\n",
        "  txt=page.extractText()\n",
        "  print(txt)"
      ]
    },
    {
      "cell_type": "code",
      "execution_count": null,
      "metadata": {
        "colab": {
          "base_uri": "https://localhost:8080/"
        },
        "id": "xUrJUxJWaEZu",
        "outputId": "38654108-f595-4136-f65b-7fc1149c2eb7"
      },
      "outputs": [
        {
          "name": "stdout",
          "output_type": "stream",
          "text": [
            "<re.Match object; span=(314, 322), match='INV-3337'>\n"
          ]
        }
      ],
      "source": [
        "import re\n",
        "m=re.search(\"INV-[0-9]*\",txt)\n",
        "print(m)"
      ]
    },
    {
      "cell_type": "code",
      "execution_count": null,
      "metadata": {
        "colab": {
          "base_uri": "https://localhost:8080/"
        },
        "id": "Vj05yZfYaEcA",
        "outputId": "4cd7c495-a41c-486e-dbd4-aa6b52ae53aa"
      },
      "outputs": [
        {
          "name": "stdout",
          "output_type": "stream",
          "text": [
            "<re.Match object; span=(408, 414), match='$93.50'>\n"
          ]
        }
      ],
      "source": [
        "m=re.search(\"\\$[0-9]*\\.[0-9]*\",txt)\n",
        "print(m)"
      ]
    },
    {
      "cell_type": "code",
      "execution_count": null,
      "metadata": {
        "colab": {
          "base_uri": "https://localhost:8080/"
        },
        "id": "ufjUNaqCaEfs",
        "outputId": "3031db66-c35a-41a3-e891-498585806daa"
      },
      "outputs": [
        {
          "name": "stdout",
          "output_type": "stream",
          "text": [
            "<re.Match object; span=(398, 414), match='Total Due\\n$93.50'>\n"
          ]
        }
      ],
      "source": [
        "m=re.search(\"Total Due\\n\\$[0-9]*\\.[0-9]*\",txt)\n",
        "print(m)"
      ]
    },
    {
      "cell_type": "code",
      "execution_count": null,
      "metadata": {
        "id": "pK_3aYBSB49m"
      },
      "outputs": [],
      "source": [
        "import pandas as pd\n",
        "\n",
        "df=pd.DataFrame({'Name':['Amy', 'Ben', 'Christine', 'David'],\n",
        "                 'Email':['amy.l@hotmail.com',\n",
        "                              'benmartni@gmail.fr',\n",
        "                              'c.mousse@example.com',\n",
        "                              'd_zhang@fp.fr'],\n",
        "                 'Birthday':['12/02/1992',\n",
        "                               '01/12/1980',\n",
        "                               '12/05/1839',\n",
        "                               '05/11/1990']},\n",
        "                         columns=['Name', 'Email','Birthday']\n",
        "                 \n",
        "                 )"
      ]
    },
    {
      "cell_type": "code",
      "execution_count": null,
      "metadata": {
        "colab": {
          "base_uri": "https://localhost:8080/"
        },
        "id": "wICE9wvNB5Az",
        "outputId": "16334502-443f-4a59-f2a3-c1f6c6aecf62"
      },
      "outputs": [
        {
          "data": {
            "text/plain": [
              "0       amy.l[at]hotmail.com\n",
              "1      benmartni[at]gmail.fr\n",
              "2    c.mousse[at]example.com\n",
              "3           d_zhang[at]fp.fr\n",
              "Name: Email, dtype: object"
            ]
          },
          "execution_count": 23,
          "metadata": {},
          "output_type": "execute_result"
        }
      ],
      "source": [
        "import re\n",
        "df['Email'].apply(lambda x:re.sub(r'@','[at]',x))"
      ]
    },
    {
      "cell_type": "code",
      "execution_count": null,
      "metadata": {
        "id": "pa_QGTDZB5Dy"
      },
      "outputs": [],
      "source": [
        "def date_convert(date_value):\n",
        "  m=re.match(r'(\\d{2})\\/(\\d{2})\\/(\\d{4})',date_value)\n",
        "  return '-'.join([m.groups()[2], m.groups()[1], m.groups()[0]])"
      ]
    },
    {
      "cell_type": "code",
      "execution_count": null,
      "metadata": {
        "id": "LZdqBea9B5Gx"
      },
      "outputs": [],
      "source": [
        "df['Birthday']=df['Birthday'].apply(lambda x:date_convert(x))"
      ]
    },
    {
      "cell_type": "code",
      "execution_count": null,
      "metadata": {
        "colab": {
          "base_uri": "https://localhost:8080/",
          "height": 175
        },
        "id": "IUbsmY8iB5Jo",
        "outputId": "dd933195-d93d-4eeb-c555-2aa313a739c0"
      },
      "outputs": [
        {
          "data": {
            "text/html": [
              "\n",
              "  <div id=\"df-a87c523e-5d0a-4dd0-880b-cdedcc82818a\">\n",
              "    <div class=\"colab-df-container\">\n",
              "      <div>\n",
              "<style scoped>\n",
              "    .dataframe tbody tr th:only-of-type {\n",
              "        vertical-align: middle;\n",
              "    }\n",
              "\n",
              "    .dataframe tbody tr th {\n",
              "        vertical-align: top;\n",
              "    }\n",
              "\n",
              "    .dataframe thead th {\n",
              "        text-align: right;\n",
              "    }\n",
              "</style>\n",
              "<table border=\"1\" class=\"dataframe\">\n",
              "  <thead>\n",
              "    <tr style=\"text-align: right;\">\n",
              "      <th></th>\n",
              "      <th>Name</th>\n",
              "      <th>Email</th>\n",
              "      <th>Birthday</th>\n",
              "    </tr>\n",
              "  </thead>\n",
              "  <tbody>\n",
              "    <tr>\n",
              "      <th>0</th>\n",
              "      <td>Amy</td>\n",
              "      <td>amy.l@hotmail.com</td>\n",
              "      <td>1992-02-12</td>\n",
              "    </tr>\n",
              "    <tr>\n",
              "      <th>1</th>\n",
              "      <td>Ben</td>\n",
              "      <td>benmartni@gmail.fr</td>\n",
              "      <td>1980-12-01</td>\n",
              "    </tr>\n",
              "    <tr>\n",
              "      <th>2</th>\n",
              "      <td>Christine</td>\n",
              "      <td>c.mousse@example.com</td>\n",
              "      <td>1839-05-12</td>\n",
              "    </tr>\n",
              "    <tr>\n",
              "      <th>3</th>\n",
              "      <td>David</td>\n",
              "      <td>d_zhang@fp.fr</td>\n",
              "      <td>1990-11-05</td>\n",
              "    </tr>\n",
              "  </tbody>\n",
              "</table>\n",
              "</div>\n",
              "      <button class=\"colab-df-convert\" onclick=\"convertToInteractive('df-a87c523e-5d0a-4dd0-880b-cdedcc82818a')\"\n",
              "              title=\"Convert this dataframe to an interactive table.\"\n",
              "              style=\"display:none;\">\n",
              "        \n",
              "  <svg xmlns=\"http://www.w3.org/2000/svg\" height=\"24px\"viewBox=\"0 0 24 24\"\n",
              "       width=\"24px\">\n",
              "    <path d=\"M0 0h24v24H0V0z\" fill=\"none\"/>\n",
              "    <path d=\"M18.56 5.44l.94 2.06.94-2.06 2.06-.94-2.06-.94-.94-2.06-.94 2.06-2.06.94zm-11 1L8.5 8.5l.94-2.06 2.06-.94-2.06-.94L8.5 2.5l-.94 2.06-2.06.94zm10 10l.94 2.06.94-2.06 2.06-.94-2.06-.94-.94-2.06-.94 2.06-2.06.94z\"/><path d=\"M17.41 7.96l-1.37-1.37c-.4-.4-.92-.59-1.43-.59-.52 0-1.04.2-1.43.59L10.3 9.45l-7.72 7.72c-.78.78-.78 2.05 0 2.83L4 21.41c.39.39.9.59 1.41.59.51 0 1.02-.2 1.41-.59l7.78-7.78 2.81-2.81c.8-.78.8-2.07 0-2.86zM5.41 20L4 18.59l7.72-7.72 1.47 1.35L5.41 20z\"/>\n",
              "  </svg>\n",
              "      </button>\n",
              "      \n",
              "  <style>\n",
              "    .colab-df-container {\n",
              "      display:flex;\n",
              "      flex-wrap:wrap;\n",
              "      gap: 12px;\n",
              "    }\n",
              "\n",
              "    .colab-df-convert {\n",
              "      background-color: #E8F0FE;\n",
              "      border: none;\n",
              "      border-radius: 50%;\n",
              "      cursor: pointer;\n",
              "      display: none;\n",
              "      fill: #1967D2;\n",
              "      height: 32px;\n",
              "      padding: 0 0 0 0;\n",
              "      width: 32px;\n",
              "    }\n",
              "\n",
              "    .colab-df-convert:hover {\n",
              "      background-color: #E2EBFA;\n",
              "      box-shadow: 0px 1px 2px rgba(60, 64, 67, 0.3), 0px 1px 3px 1px rgba(60, 64, 67, 0.15);\n",
              "      fill: #174EA6;\n",
              "    }\n",
              "\n",
              "    [theme=dark] .colab-df-convert {\n",
              "      background-color: #3B4455;\n",
              "      fill: #D2E3FC;\n",
              "    }\n",
              "\n",
              "    [theme=dark] .colab-df-convert:hover {\n",
              "      background-color: #434B5C;\n",
              "      box-shadow: 0px 1px 3px 1px rgba(0, 0, 0, 0.15);\n",
              "      filter: drop-shadow(0px 1px 2px rgba(0, 0, 0, 0.3));\n",
              "      fill: #FFFFFF;\n",
              "    }\n",
              "  </style>\n",
              "\n",
              "      <script>\n",
              "        const buttonEl =\n",
              "          document.querySelector('#df-a87c523e-5d0a-4dd0-880b-cdedcc82818a button.colab-df-convert');\n",
              "        buttonEl.style.display =\n",
              "          google.colab.kernel.accessAllowed ? 'block' : 'none';\n",
              "\n",
              "        async function convertToInteractive(key) {\n",
              "          const element = document.querySelector('#df-a87c523e-5d0a-4dd0-880b-cdedcc82818a');\n",
              "          const dataTable =\n",
              "            await google.colab.kernel.invokeFunction('convertToInteractive',\n",
              "                                                     [key], {});\n",
              "          if (!dataTable) return;\n",
              "\n",
              "          const docLinkHtml = 'Like what you see? Visit the ' +\n",
              "            '<a target=\"_blank\" href=https://colab.research.google.com/notebooks/data_table.ipynb>data table notebook</a>'\n",
              "            + ' to learn more about interactive tables.';\n",
              "          element.innerHTML = '';\n",
              "          dataTable['output_type'] = 'display_data';\n",
              "          await google.colab.output.renderOutput(dataTable, element);\n",
              "          const docLink = document.createElement('div');\n",
              "          docLink.innerHTML = docLinkHtml;\n",
              "          element.appendChild(docLink);\n",
              "        }\n",
              "      </script>\n",
              "    </div>\n",
              "  </div>\n",
              "  "
            ],
            "text/plain": [
              "        Name                 Email    Birthday\n",
              "0        Amy     amy.l@hotmail.com  1992-02-12\n",
              "1        Ben    benmartni@gmail.fr  1980-12-01\n",
              "2  Christine  c.mousse@example.com  1839-05-12\n",
              "3      David         d_zhang@fp.fr  1990-11-05"
            ]
          },
          "execution_count": 28,
          "metadata": {},
          "output_type": "execute_result"
        }
      ],
      "source": [
        "df"
      ]
    },
    {
      "cell_type": "code",
      "execution_count": null,
      "metadata": {
        "id": "DKFkfWDBB5Mf"
      },
      "outputs": [],
      "source": [
        "def validate_password(password):\n",
        "  atleast_8=r\".{8,}\"\n",
        "  one_lowercase=r\"[a-z]\"\n",
        "  one_uppercase=r\"[A-Z]\"\n",
        "  one_digit=r\"\\d\"\n",
        "  special=r\"[!\\”#$%&'()*+,-./:;<=>?@[\\]^_`{|}~]\"\n",
        "  if re.search(atleast_8,password) == None:\n",
        "    print('Error: Password must have at least 8 characters')\n",
        "    return False\n",
        "  elif re.search(one_lowercase, password) == None:\n",
        "      print('Error: Password must have at least 1 lowercase character')\n",
        "      return False\n",
        "  elif re.search(one_uppercase, password) == None:\n",
        "      print('Error: Password must have at least 1 uppercase character')\n",
        "      return False\n",
        "  elif re.search(one_digit, password) == None:\n",
        "      print('Error: Password must have at least 1 digit')\n",
        "      return False\n",
        "  elif re.search(special, password) == None:\n",
        "      print('Error: Password must have at least 1 special character')\n",
        "      return False\n",
        "  return True"
      ]
    },
    {
      "cell_type": "code",
      "execution_count": null,
      "metadata": {
        "colab": {
          "base_uri": "https://localhost:8080/"
        },
        "id": "HPnItP8wB5PT",
        "outputId": "3024e773-1a69-4df8-b085-da6384223d23"
      },
      "outputs": [
        {
          "name": "stdout",
          "output_type": "stream",
          "text": [
            "Error: Password must have at least 8 characters\n",
            "False\n",
            "Error: Password must have at least 1 lowercase character\n",
            "False\n",
            "Error: Password must have at least 1 uppercase character\n",
            "False\n",
            "Error: Password must have at least 1 digit\n",
            "False\n",
            "Error: Password must have at least 1 special character\n",
            "False\n",
            "True\n"
          ]
        }
      ],
      "source": [
        "if __name__ == '__main__':\n",
        "    print(validate_password('pass'))\n",
        "    print(validate_password('PASSWORD'))\n",
        "    print(validate_password('password'))\n",
        "    print(validate_password('Password'))\n",
        "    print(validate_password('Password1234'))\n",
        "    print(validate_password('Password-1234'))"
      ]
    },
    {
      "cell_type": "code",
      "execution_count": null,
      "metadata": {
        "colab": {
          "base_uri": "https://localhost:8080/",
          "height": 35
        },
        "id": "op-B-FWaB5SK",
        "outputId": "62280f21-039d-458d-8759-424da55801d3"
      },
      "outputs": [
        {
          "data": {
            "application/vnd.google.colaboratory.intrinsic+json": {
              "type": "string"
            },
            "text/plain": [
              "'Valid'"
            ]
          },
          "execution_count": 81,
          "metadata": {},
          "output_type": "execute_result"
        }
      ],
      "source": [
        "def card(x):\n",
        "  atleast_4=r\"^[4|5|6]\"\n",
        "  sixteen=r\"^\\w{16}$\"\n",
        "  onlydigits=r\"\\D\"\n",
        "  special=r\"[,-]\"\n",
        "  if re.search(atleast_4,x) == None:\n",
        "    return '4-InValid'\n",
        "  elif re.search(sixteen,x) == None:\n",
        "    return '16-InValid'\n",
        "  elif re.search(onlydigits,x) != None:\n",
        "    return 'D-InValid'\n",
        "  elif re.search(special,x) != None:\n",
        "    return 'S-InValid'\n",
        "  return 'Valid'\n",
        "  \n",
        "\n",
        "card(\"4245647893112570\")"
      ]
    },
    {
      "cell_type": "code",
      "execution_count": null,
      "metadata": {
        "colab": {
          "base_uri": "https://localhost:8080/",
          "height": 35
        },
        "id": "z3GoiUtlB5VA",
        "outputId": "48fc79a6-0eb6-40a0-be47-cba2c2e698b2"
      },
      "outputs": [
        {
          "data": {
            "application/vnd.google.colaboratory.intrinsic+json": {
              "type": "string"
            },
            "text/plain": [
              "'02-01-2020'"
            ]
          },
          "execution_count": 84,
          "metadata": {},
          "output_type": "execute_result"
        }
      ],
      "source": [
        "import regex as re\n",
        "def change_format(date):\n",
        "  return re.sub(r'(\\d{4})-(\\d{1,2})-(\\d{1,2})', '\\\\3-\\\\2-\\\\1', date)\n",
        "date1 = change_format(\"2020-01-02\")\n",
        "date1"
      ]
    },
    {
      "cell_type": "code",
      "execution_count": null,
      "metadata": {
        "colab": {
          "background_save": true,
          "base_uri": "https://localhost:8080/"
        },
        "id": "8i7Ed71nB5X2",
        "outputId": "60f3ec7b-b0f9-4e11-fe7e-70a4348e9e47"
      },
      "outputs": [
        {
          "data": {
            "text/plain": [
              "[\"<regex.Match object; span=(0, 0), match=''>\",\n",
              " \"<regex.Match object; span=(1, 1), match=''>\",\n",
              " \"<regex.Match object; span=(2, 2), match=''>\",\n",
              " \"<regex.Match object; span=(3, 3), match=''>\",\n",
              " \"<regex.Match object; span=(4, 4), match=''>\",\n",
              " \"<regex.Match object; span=(5, 5), match=''>\",\n",
              " \"<regex.Match object; span=(6, 6), match=''>\",\n",
              " \"<regex.Match object; span=(7, 7), match=''>\",\n",
              " \"<regex.Match object; span=(8, 8), match=''>\",\n",
              " \"<regex.Match object; span=(9, 9), match=''>\",\n",
              " \"<regex.Match object; span=(10, 10), match=''>\",\n",
              " \"<regex.Match object; span=(11, 11), match=''>\",\n",
              " \"<regex.Match object; span=(12, 12), match=''>\",\n",
              " \"<regex.Match object; span=(13, 13), match=''>\",\n",
              " \"<regex.Match object; span=(14, 17), match='@Ra'>\",\n",
              " \"<regex.Match object; span=(17, 17), match=''>\",\n",
              " \"<regex.Match object; span=(18, 18), match=''>\",\n",
              " \"<regex.Match object; span=(19, 19), match=''>\",\n",
              " \"<regex.Match object; span=(20, 20), match=''>\",\n",
              " \"<regex.Match object; span=(21, 21), match=''>\",\n",
              " \"<regex.Match object; span=(22, 22), match=''>\",\n",
              " \"<regex.Match object; span=(23, 23), match=''>\",\n",
              " \"<regex.Match object; span=(24, 24), match=''>\",\n",
              " \"<regex.Match object; span=(25, 25), match=''>\",\n",
              " \"<regex.Match object; span=(26, 26), match=''>\",\n",
              " \"<regex.Match object; span=(27, 27), match=''>\",\n",
              " \"<regex.Match object; span=(28, 28), match=''>\",\n",
              " \"<regex.Match object; span=(29, 29), match=''>\",\n",
              " \"<regex.Match object; span=(30, 30), match=''>\",\n",
              " \"<regex.Match object; span=(31, 31), match=''>\",\n",
              " \"<regex.Match object; span=(32, 32), match=''>\",\n",
              " \"<regex.Match object; span=(33, 33), match=''>\",\n",
              " \"<regex.Match object; span=(34, 34), match=''>\",\n",
              " \"<regex.Match object; span=(35, 35), match=''>\",\n",
              " \"<regex.Match object; span=(36, 36), match=''>\",\n",
              " \"<regex.Match object; span=(37, 37), match=''>\",\n",
              " \"<regex.Match object; span=(38, 38), match=''>\",\n",
              " \"<regex.Match object; span=(39, 39), match=''>\",\n",
              " \"<regex.Match object; span=(40, 40), match=''>\",\n",
              " \"<regex.Match object; span=(41, 41), match=''>\",\n",
              " \"<regex.Match object; span=(42, 42), match=''>\",\n",
              " \"<regex.Match object; span=(43, 43), match=''>\",\n",
              " \"<regex.Match object; span=(44, 44), match=''>\",\n",
              " \"<regex.Match object; span=(45, 45), match=''>\",\n",
              " \"<regex.Match object; span=(46, 46), match=''>\",\n",
              " \"<regex.Match object; span=(47, 47), match=''>\",\n",
              " \"<regex.Match object; span=(48, 48), match=''>\",\n",
              " \"<regex.Match object; span=(49, 49), match=''>\",\n",
              " \"<regex.Match object; span=(50, 50), match=''>\",\n",
              " \"<regex.Match object; span=(51, 51), match=''>\",\n",
              " \"<regex.Match object; span=(52, 52), match=''>\",\n",
              " \"<regex.Match object; span=(53, 53), match=''>\",\n",
              " \"<regex.Match object; span=(54, 54), match=''>\",\n",
              " \"<regex.Match object; span=(55, 55), match=''>\",\n",
              " \"<regex.Match object; span=(56, 56), match=''>\",\n",
              " \"<regex.Match object; span=(57, 57), match=''>\",\n",
              " \"<regex.Match object; span=(58, 58), match=''>\",\n",
              " \"<regex.Match object; span=(59, 59), match=''>\",\n",
              " \"<regex.Match object; span=(60, 60), match=''>\",\n",
              " \"<regex.Match object; span=(61, 61), match=''>\",\n",
              " \"<regex.Match object; span=(62, 62), match=''>\",\n",
              " \"<regex.Match object; span=(63, 63), match=''>\",\n",
              " \"<regex.Match object; span=(64, 64), match=''>\",\n",
              " \"<regex.Match object; span=(65, 65), match=''>\",\n",
              " \"<regex.Match object; span=(66, 68), match='@a'>\",\n",
              " \"<regex.Match object; span=(68, 68), match=''>\",\n",
              " \"<regex.Match object; span=(69, 69), match=''>\",\n",
              " \"<regex.Match object; span=(70, 70), match=''>\",\n",
              " \"<regex.Match object; span=(71, 71), match=''>\",\n",
              " \"<regex.Match object; span=(72, 72), match=''>\",\n",
              " \"<regex.Match object; span=(73, 73), match=''>\",\n",
              " \"<regex.Match object; span=(74, 74), match=''>\",\n",
              " \"<regex.Match object; span=(75, 75), match=''>\",\n",
              " \"<regex.Match object; span=(76, 76), match=''>\",\n",
              " \"<regex.Match object; span=(77, 77), match=''>\",\n",
              " \"<regex.Match object; span=(78, 78), match=''>\",\n",
              " \"<regex.Match object; span=(79, 79), match=''>\",\n",
              " \"<regex.Match object; span=(80, 80), match=''>\",\n",
              " \"<regex.Match object; span=(81, 81), match=''>\",\n",
              " \"<regex.Match object; span=(82, 82), match=''>\",\n",
              " \"<regex.Match object; span=(83, 83), match=''>\",\n",
              " \"<regex.Match object; span=(84, 84), match=''>\",\n",
              " \"<regex.Match object; span=(85, 85), match=''>\",\n",
              " \"<regex.Match object; span=(86, 86), match=''>\",\n",
              " \"<regex.Match object; span=(87, 87), match=''>\",\n",
              " \"<regex.Match object; span=(88, 88), match=''>\",\n",
              " \"<regex.Match object; span=(89, 89), match=''>\",\n",
              " \"<regex.Match object; span=(90, 90), match=''>\",\n",
              " \"<regex.Match object; span=(91, 91), match=''>\",\n",
              " \"<regex.Match object; span=(92, 92), match=''>\",\n",
              " \"<regex.Match object; span=(93, 93), match=''>\",\n",
              " \"<regex.Match object; span=(94, 94), match=''>\",\n",
              " \"<regex.Match object; span=(95, 95), match=''>\",\n",
              " \"<regex.Match object; span=(96, 96), match=''>\",\n",
              " \"<regex.Match object; span=(97, 97), match=''>\",\n",
              " \"<regex.Match object; span=(98, 98), match=''>\",\n",
              " \"<regex.Match object; span=(99, 99), match=''>\",\n",
              " \"<regex.Match object; span=(100, 100), match=''>\",\n",
              " \"<regex.Match object; span=(101, 101), match=''>\",\n",
              " \"<regex.Match object; span=(102, 102), match=''>\",\n",
              " \"<regex.Match object; span=(103, 103), match=''>\",\n",
              " \"<regex.Match object; span=(104, 104), match=''>\"]"
            ]
          },
          "execution_count": 93,
          "metadata": {},
          "output_type": "execute_result"
        }
      ],
      "source": [
        "pattern = '@[A-Z]*[a-z]*'\n",
        "data=\"You are doing @Rama we have come a long way from the days when me @anand and you were in school together\"\n",
        "names = re.finditer(pattern,data)\n",
        "list=[]\n",
        "for i, name in enumerate(names):\n",
        "  list.append(str(name))\n",
        "list\n",
        " "
      ]
    },
    {
      "cell_type": "code",
      "execution_count": null,
      "metadata": {
        "id": "WSYuq7RxB5at"
      },
      "outputs": [],
      "source": []
    },
    {
      "cell_type": "code",
      "execution_count": null,
      "metadata": {
        "id": "73lYHpfbB5de"
      },
      "outputs": [],
      "source": []
    },
    {
      "cell_type": "code",
      "execution_count": null,
      "metadata": {
        "id": "-lQkiVVUB5gD"
      },
      "outputs": [],
      "source": []
    },
    {
      "cell_type": "code",
      "execution_count": null,
      "metadata": {
        "id": "W0lAdUQrB5ix"
      },
      "outputs": [],
      "source": []
    },
    {
      "cell_type": "code",
      "execution_count": null,
      "metadata": {
        "id": "BZzhTFDcB5ly"
      },
      "outputs": [],
      "source": []
    },
    {
      "cell_type": "code",
      "execution_count": null,
      "metadata": {
        "id": "AgBZXtvNB5o3"
      },
      "outputs": [],
      "source": []
    },
    {
      "cell_type": "code",
      "execution_count": null,
      "metadata": {
        "id": "rIYKQrksB5sM"
      },
      "outputs": [],
      "source": []
    },
    {
      "cell_type": "code",
      "execution_count": null,
      "metadata": {
        "id": "bT8uf5LIB5u6"
      },
      "outputs": [],
      "source": []
    },
    {
      "cell_type": "code",
      "execution_count": null,
      "metadata": {
        "id": "TgnZP8P9B5yK"
      },
      "outputs": [],
      "source": []
    },
    {
      "cell_type": "code",
      "execution_count": null,
      "metadata": {
        "id": "B-NgJScFB503"
      },
      "outputs": [],
      "source": []
    },
    {
      "cell_type": "code",
      "execution_count": null,
      "metadata": {
        "id": "HxlhSie8B54O"
      },
      "outputs": [],
      "source": []
    },
    {
      "cell_type": "code",
      "execution_count": null,
      "metadata": {
        "id": "tEGmtp2lB57L"
      },
      "outputs": [],
      "source": []
    },
    {
      "cell_type": "code",
      "execution_count": null,
      "metadata": {
        "id": "bSp5MDQFB5-Z"
      },
      "outputs": [],
      "source": []
    },
    {
      "cell_type": "code",
      "execution_count": null,
      "metadata": {
        "id": "V5LOWXpNB6Bg"
      },
      "outputs": [],
      "source": []
    },
    {
      "cell_type": "code",
      "execution_count": null,
      "metadata": {
        "id": "yfp0w44FB6Em"
      },
      "outputs": [],
      "source": []
    },
    {
      "cell_type": "code",
      "execution_count": null,
      "metadata": {
        "id": "XT-wcQIdB6HX"
      },
      "outputs": [],
      "source": []
    },
    {
      "cell_type": "code",
      "execution_count": null,
      "metadata": {
        "id": "tcafgxJbB6KT"
      },
      "outputs": [],
      "source": []
    },
    {
      "cell_type": "code",
      "execution_count": null,
      "metadata": {
        "id": "3Air9uuxB6NB"
      },
      "outputs": [],
      "source": []
    },
    {
      "cell_type": "code",
      "execution_count": null,
      "metadata": {
        "id": "qBM3T-SeB6QA"
      },
      "outputs": [],
      "source": []
    },
    {
      "cell_type": "code",
      "execution_count": null,
      "metadata": {
        "id": "D55m_XHZB6TB"
      },
      "outputs": [],
      "source": []
    },
    {
      "cell_type": "code",
      "execution_count": null,
      "metadata": {
        "id": "Ly0AVUDbB6Vt"
      },
      "outputs": [],
      "source": []
    },
    {
      "cell_type": "code",
      "execution_count": null,
      "metadata": {
        "id": "PenGSHHVB6Yj"
      },
      "outputs": [],
      "source": []
    },
    {
      "cell_type": "code",
      "execution_count": null,
      "metadata": {
        "id": "h8P4MBPbB6bC"
      },
      "outputs": [],
      "source": []
    },
    {
      "cell_type": "code",
      "execution_count": null,
      "metadata": {
        "id": "jUCWqYMvB6dk"
      },
      "outputs": [],
      "source": []
    },
    {
      "cell_type": "code",
      "execution_count": null,
      "metadata": {
        "id": "V18bsmc8aEiG"
      },
      "outputs": [],
      "source": []
    },
    {
      "cell_type": "code",
      "execution_count": null,
      "metadata": {
        "id": "7U_0XNsLaEka"
      },
      "outputs": [],
      "source": []
    },
    {
      "cell_type": "code",
      "execution_count": null,
      "metadata": {
        "id": "pf6BMhwRaEm0"
      },
      "outputs": [],
      "source": []
    },
    {
      "cell_type": "code",
      "execution_count": null,
      "metadata": {
        "id": "FJ8hwJQ5aEo3"
      },
      "outputs": [],
      "source": []
    },
    {
      "cell_type": "code",
      "execution_count": null,
      "metadata": {
        "id": "lPMaPQLKaErH"
      },
      "outputs": [],
      "source": []
    }
  ],
  "metadata": {
    "colab": {
      "provenance": [],
      "authorship_tag": "ABX9TyMkH6oHAoDlrTaFWiKjLydG",
      "include_colab_link": true
    },
    "kernelspec": {
      "display_name": "Python 3",
      "name": "python3"
    },
    "language_info": {
      "name": "python"
    }
  },
  "nbformat": 4,
  "nbformat_minor": 0
}