{
  "nbformat": 4,
  "nbformat_minor": 0,
  "metadata": {
    "colab": {
      "name": "Scaler_2ndJul2022.ipynb",
      "provenance": [],
      "authorship_tag": "ABX9TyM0U9D3GkuXrSvgmeWzbFv3",
      "include_colab_link": true
    },
    "kernelspec": {
      "name": "python3",
      "display_name": "Python 3"
    },
    "language_info": {
      "name": "python"
    }
  },
  "cells": [
    {
      "cell_type": "markdown",
      "metadata": {
        "id": "view-in-github",
        "colab_type": "text"
      },
      "source": [
        "<a href=\"https://colab.research.google.com/github/kavithachitriki/SCALER_PRACTICE/blob/main/Scaler_2ndJul2022.ipynb\" target=\"_parent\"><img src=\"https://colab.research.google.com/assets/colab-badge.svg\" alt=\"Open In Colab\"/></a>"
      ]
    },
    {
      "cell_type": "code",
      "execution_count": 13,
      "metadata": {
        "colab": {
          "base_uri": "https://localhost:8080/"
        },
        "id": "z4Ev_aTVOwdy",
        "outputId": "b5c9e2e1-c4f2-4bfc-de38-f015432164b0"
      },
      "outputs": [
        {
          "output_type": "execute_result",
          "data": {
            "text/plain": [
              "array([[0, 1, 0, 0, 0],\n",
              "       [0, 0, 0, 1, 0],\n",
              "       [0, 0, 0, 0, 1],\n",
              "       [0, 1, 0, 0, 0],\n",
              "       [0, 0, 1, 0, 0]])"
            ]
          },
          "metadata": {},
          "execution_count": 13
        }
      ],
      "source": [
        "import numpy as np\n",
        "def onehot(arr):\n",
        "\n",
        "    \"\"\"\n",
        "        Input arr is numpy array here\n",
        "        Output an array of dimension (arr.size, max(array)+1)\n",
        "    \"\"\"\n",
        "    \n",
        "    cols=arr.max()\n",
        "    rows=len(arr)\n",
        "    newarr=np.zeros((rows,cols+1),dtype=\"int\")\n",
        "    \n",
        "  \n",
        "    for i in range(0,len(arr)):\n",
        "      newarr[i,arr[i]]=1\n",
        "    \n",
        "    np.round(newarr,0)\n",
        "    \n",
        "    return newarr\n",
        "\n",
        "\n",
        "array=np.array([1,3,4,1,2])\n",
        "onehot(array)"
      ]
    },
    {
      "cell_type": "code",
      "source": [
        "arr=np.array([1,3,4,1,2])\n",
        "arr.max()"
      ],
      "metadata": {
        "colab": {
          "base_uri": "https://localhost:8080/"
        },
        "id": "ptos7jiOPGPf",
        "outputId": "d8542c0d-6ae6-4f93-861c-32867ab53994"
      },
      "execution_count": 3,
      "outputs": [
        {
          "output_type": "execute_result",
          "data": {
            "text/plain": [
              "4"
            ]
          },
          "metadata": {},
          "execution_count": 3
        }
      ]
    },
    {
      "cell_type": "code",
      "source": [
        "len(arr)"
      ],
      "metadata": {
        "colab": {
          "base_uri": "https://localhost:8080/"
        },
        "id": "lUfrqiDPPGSi",
        "outputId": "d0ae694d-73c5-40ca-90df-2d61ab568cc2"
      },
      "execution_count": 4,
      "outputs": [
        {
          "output_type": "execute_result",
          "data": {
            "text/plain": [
              "5"
            ]
          },
          "metadata": {},
          "execution_count": 4
        }
      ]
    },
    {
      "cell_type": "code",
      "source": [
        "import pandas as pd\n",
        "def solve(string):\n",
        "    \"\"\"\n",
        "    returns a series object with word count as values and words as the indices.\n",
        "    \"\"\"\n",
        "    df=pd.DataFrame(columns=[])\n",
        "    df['words']=string.split(\" \")\n",
        "    df=df['words'].value_counts()\n",
        "    return df\n",
        "   \n",
        "\n",
        "solve(\"How much wood would a woodchuck chuck if a woodchuck could chuck wood\")"
      ],
      "metadata": {
        "colab": {
          "base_uri": "https://localhost:8080/"
        },
        "id": "KpC7vp_fPGVf",
        "outputId": "b4ded0e8-28f4-4f9a-ca40-02b812df093a"
      },
      "execution_count": 39,
      "outputs": [
        {
          "output_type": "execute_result",
          "data": {
            "text/plain": [
              "wood         2\n",
              "a            2\n",
              "woodchuck    2\n",
              "chuck        2\n",
              "How          1\n",
              "much         1\n",
              "would        1\n",
              "if           1\n",
              "could        1\n",
              "Name: words, dtype: int64"
            ]
          },
          "metadata": {},
          "execution_count": 39
        }
      ]
    },
    {
      "cell_type": "code",
      "source": [
        ""
      ],
      "metadata": {
        "id": "tr-qrKxuPGYT"
      },
      "execution_count": null,
      "outputs": []
    },
    {
      "cell_type": "code",
      "source": [
        ""
      ],
      "metadata": {
        "id": "z1Yd0y9VPGa9"
      },
      "execution_count": null,
      "outputs": []
    },
    {
      "cell_type": "code",
      "source": [
        ""
      ],
      "metadata": {
        "id": "AJHVmgAoPGd_"
      },
      "execution_count": null,
      "outputs": []
    }
  ]
}