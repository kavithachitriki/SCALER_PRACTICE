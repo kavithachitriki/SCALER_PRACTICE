{
  "nbformat": 4,
  "nbformat_minor": 0,
  "metadata": {
    "colab": {
      "name": "Scaler_practice1.ipynb",
      "provenance": [],
      "authorship_tag": "ABX9TyPLuembYranZBtvVrLQOwgj",
      "include_colab_link": true
    },
    "kernelspec": {
      "name": "python3",
      "display_name": "Python 3"
    },
    "language_info": {
      "name": "python"
    }
  },
  "cells": [
    {
      "cell_type": "markdown",
      "metadata": {
        "id": "view-in-github",
        "colab_type": "text"
      },
      "source": [
        "<a href=\"https://colab.research.google.com/github/kavithachitriki/SCALER_PRACTICE/blob/main/Scaler_practice1.ipynb\" target=\"_parent\"><img src=\"https://colab.research.google.com/assets/colab-badge.svg\" alt=\"Open In Colab\"/></a>"
      ]
    },
    {
      "cell_type": "code",
      "execution_count": 2,
      "metadata": {
        "colab": {
          "base_uri": "https://localhost:8080/"
        },
        "id": "f8Ndk3x-Xbbz",
        "outputId": "97e64f7d-f1bc-4282-9003-dfd72d5c2f96"
      },
      "outputs": [
        {
          "output_type": "execute_result",
          "data": {
            "text/plain": [
              "[1, 3, 5, 7, 9, 4, 8, 6, 2]"
            ]
          },
          "metadata": {},
          "execution_count": 2
        }
      ],
      "source": [
        "#deck of cards\n",
        "def solve(arr):\n",
        "  if(len(arr) == 1):\n",
        "    return arr\n",
        "\n",
        "  left=arr[::2]\n",
        "  right=arr[1::2]\n",
        "\n",
        "  if len(left) != len(right):\n",
        "      temp=right.pop(0)\n",
        "      right.append(temp)\n",
        "\n",
        "  return left+solve(right)\n",
        "\n",
        "\n",
        "arr=[1,2,3,4,5,6,7,8,9]\n",
        "solve(arr)\n"
      ]
    }
  ]
}