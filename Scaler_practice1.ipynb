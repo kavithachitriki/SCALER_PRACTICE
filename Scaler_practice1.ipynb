{
  "nbformat": 4,
  "nbformat_minor": 0,
  "metadata": {
    "colab": {
      "name": "Scaler_practice1.ipynb",
      "provenance": [],
      "authorship_tag": "ABX9TyNJ6/dB5NqqnoAGmEFAwa91",
      "include_colab_link": true
    },
    "kernelspec": {
      "name": "python3",
      "display_name": "Python 3"
    },
    "language_info": {
      "name": "python"
    }
  },
  "cells": [
    {
      "cell_type": "markdown",
      "metadata": {
        "id": "view-in-github",
        "colab_type": "text"
      },
      "source": [
        "<a href=\"https://colab.research.google.com/github/kavithachitriki/SCALER_PRACTICE/blob/main/Scaler_practice1.ipynb\" target=\"_parent\"><img src=\"https://colab.research.google.com/assets/colab-badge.svg\" alt=\"Open In Colab\"/></a>"
      ]
    },
    {
      "cell_type": "code",
      "execution_count": null,
      "metadata": {
        "colab": {
          "base_uri": "https://localhost:8080/"
        },
        "id": "f8Ndk3x-Xbbz",
        "outputId": "97e64f7d-f1bc-4282-9003-dfd72d5c2f96"
      },
      "outputs": [
        {
          "output_type": "execute_result",
          "data": {
            "text/plain": [
              "[1, 3, 5, 7, 9, 4, 8, 6, 2]"
            ]
          },
          "metadata": {},
          "execution_count": 2
        }
      ],
      "source": [
        "#deck of cards circular one\n",
        "def solve(arr):\n",
        "  if(len(arr) == 1):\n",
        "    return arr\n",
        "\n",
        "  left=arr[::2]\n",
        "  right=arr[1::2]\n",
        "\n",
        "  if len(left) != len(right):\n",
        "      temp=right.pop(0)\n",
        "      right.append(temp)\n",
        "\n",
        "  return left+solve(right)\n",
        "\n",
        "\n",
        "arr=[1,2,3,4,5,6,7,8,9]\n",
        "solve(arr)\n"
      ]
    },
    {
      "cell_type": "code",
      "source": [
        "for i in range(10):\n",
        "  print(i)\n",
        "else:\n",
        "  print(\"else afetr for loop\")"
      ],
      "metadata": {
        "colab": {
          "base_uri": "https://localhost:8080/"
        },
        "id": "bKeCS73IZEJE",
        "outputId": "0976b450-83e2-4555-a81d-1f1d702c9027"
      },
      "execution_count": null,
      "outputs": [
        {
          "output_type": "stream",
          "name": "stdout",
          "text": [
            "0\n",
            "1\n",
            "2\n",
            "3\n",
            "4\n",
            "5\n",
            "6\n",
            "7\n",
            "8\n",
            "9\n",
            "else afetr for loop\n"
          ]
        }
      ]
    },
    {
      "cell_type": "code",
      "source": [
        "#linear search\n",
        "def linear_search(arr,e1):\n",
        "  for i,x in enumerate(arr):\n",
        "    if x == e1:\n",
        "      return i\n",
        "  return -1\n",
        "\n",
        "arr=[2,3,1,4,6,5,9]\n",
        "linear_search(arr,10)"
      ],
      "metadata": {
        "colab": {
          "base_uri": "https://localhost:8080/"
        },
        "id": "cJICoeuyZEMK",
        "outputId": "86cc4496-26e6-4e43-bb44-eb75dff598d8"
      },
      "execution_count": null,
      "outputs": [
        {
          "output_type": "execute_result",
          "data": {
            "text/plain": [
              "-1"
            ]
          },
          "metadata": {},
          "execution_count": 11
        }
      ]
    },
    {
      "cell_type": "code",
      "source": [
        "#binary search\n",
        "def binary_search(arr,e1):\n",
        "  mid_point=len(arr)//2\n",
        "  start=0\n",
        "  end=len(arr)\n",
        "\n",
        "  while(start<end):\n",
        "    mid_point=(start+end) // 2\n",
        "    if(arr[mid_point] == e1):\n",
        "      return mid_point\n",
        "    elif arr[mid_point]>e1:\n",
        "      end=mid_point\n",
        "    else:\n",
        "      start=mid_point\n",
        "      \n",
        "\n",
        "\n",
        "  return -1\n",
        "\n",
        "\n",
        "array=[1,2,3,4,5,6]\n",
        "binary_search(array,6)\n",
        "  "
      ],
      "metadata": {
        "colab": {
          "base_uri": "https://localhost:8080/"
        },
        "id": "m7-ULZOUZEPF",
        "outputId": "da195508-325e-4475-c787-d004946b8ae9"
      },
      "execution_count": null,
      "outputs": [
        {
          "output_type": "execute_result",
          "data": {
            "text/plain": [
              "5"
            ]
          },
          "metadata": {},
          "execution_count": 19
        }
      ]
    },
    {
      "cell_type": "code",
      "source": [
        "def solve(arr,e1):\n",
        "  mid_point=len(arr)//2\n",
        "  start=0\n",
        "  end=len(arr)\n",
        "  while(start<end):\n",
        "    mid_point=(start+end) // 2\n",
        "    if(arr[mid_point] == e1):\n",
        "      return mid_point\n",
        "    elif arr[mid_point]<e1:\n",
        "      end=mid_point\n",
        "    else:\n",
        "      start=mid_point\n",
        "\n",
        "    return -1\n",
        "    \n",
        "\n",
        "arr=sorted([6,3,5,1,4,2,8,6,9,10],reverse=True)\n",
        "print(arr)\n",
        "solve(arr,6)\n"
      ],
      "metadata": {
        "colab": {
          "base_uri": "https://localhost:8080/"
        },
        "id": "2uQqRiCTZESA",
        "outputId": "be895cce-c201-4371-add5-c29b090199e0"
      },
      "execution_count": null,
      "outputs": [
        {
          "output_type": "stream",
          "name": "stdout",
          "text": [
            "[10, 9, 8, 6, 6, 5, 4, 3, 2, 1]\n"
          ]
        },
        {
          "output_type": "execute_result",
          "data": {
            "text/plain": [
              "3"
            ]
          },
          "metadata": {},
          "execution_count": 22
        }
      ]
    },
    {
      "cell_type": "code",
      "source": [
        "#Bubble sort\n",
        "list=[\"delta\",\"beta\",\"amma\",\"amma\"]\n",
        "for i in range(len(list)):\n",
        "  min_index=i\n",
        "  print(\"min_index\",min_index)\n",
        "  for j in range(i+1,len(list)):\n",
        "    if list[min_index]>list[j]:\n",
        "        min_index=j\n",
        "        print(\"j min_index\",j)\n",
        "    if min_index != i:\n",
        "       list[min_index],list[i]=list[i],list[min_index]\n",
        "  print(list)\n",
        "print(list)\n",
        "\n"
      ],
      "metadata": {
        "colab": {
          "base_uri": "https://localhost:8080/"
        },
        "id": "WJ7ZnwZfZEVD",
        "outputId": "5b0a0d44-a102-4580-a958-9fc320832a04"
      },
      "execution_count": null,
      "outputs": [
        {
          "output_type": "stream",
          "name": "stdout",
          "text": [
            "min_index 0\n",
            "j min_index 1\n",
            "j min_index 2\n",
            "j min_index 3\n",
            "['amma', 'delta', 'beta', 'amma']\n",
            "min_index 1\n",
            "j min_index 2\n",
            "j min_index 3\n",
            "['amma', 'amma', 'delta', 'beta']\n",
            "min_index 2\n",
            "j min_index 3\n",
            "['amma', 'amma', 'beta', 'delta']\n",
            "min_index 3\n",
            "['amma', 'amma', 'beta', 'delta']\n",
            "['amma', 'amma', 'beta', 'delta']\n"
          ]
        }
      ]
    },
    {
      "cell_type": "code",
      "source": [
        "#iterator implementation\n",
        "class YRange:\n",
        "  def __init__(self,n):\n",
        "    self.n=n\n",
        "  def __iter__(self) :\n",
        "    return YRangeIterator(self)\n",
        "\n",
        "class YRangeIterator:\n",
        "  def __init__(self,range:YRange):\n",
        "    self.range=range\n",
        "    self.i=0\n",
        "\n",
        "  def __next__(self) -> int:\n",
        "    if self.i >= self.range.n:\n",
        "      raise StopIteration\n",
        "    try:\n",
        "      return self.i\n",
        "    finally:\n",
        "      self.i += 1\n"
      ],
      "metadata": {
        "id": "AUzco7s1ZEYB"
      },
      "execution_count": null,
      "outputs": []
    },
    {
      "cell_type": "code",
      "source": [
        "for x in YRange(10):\n",
        "  print(x)"
      ],
      "metadata": {
        "colab": {
          "base_uri": "https://localhost:8080/"
        },
        "id": "coH659wiZEbF",
        "outputId": "32dac034-fe28-49ac-831d-acd4f7659a04"
      },
      "execution_count": null,
      "outputs": [
        {
          "output_type": "stream",
          "name": "stdout",
          "text": [
            "0\n",
            "1\n",
            "2\n",
            "3\n",
            "4\n",
            "5\n",
            "6\n",
            "7\n",
            "8\n",
            "9\n"
          ]
        }
      ]
    },
    {
      "cell_type": "code",
      "source": [
        "class ZRange:\n",
        "  def __init__(self,n):\n",
        "    self.n=n\n",
        "    self.i=0\n",
        "  def __iter__(self) :\n",
        "    return self\n",
        "\n",
        "  def __next__(self) -> int:\n",
        "    if self.i >= self.n:\n",
        "      raise StopIteration\n",
        "    try:\n",
        "      return self.i\n",
        "    finally:\n",
        "      self.i += 1\n",
        "\n",
        "\n",
        "\n",
        "for x in ZRange(10):\n",
        "  print(x)"
      ],
      "metadata": {
        "colab": {
          "base_uri": "https://localhost:8080/"
        },
        "id": "pAGXFdzMZEeK",
        "outputId": "1e4fc812-7858-4fb8-d000-ad175d66c295"
      },
      "execution_count": null,
      "outputs": [
        {
          "output_type": "stream",
          "name": "stdout",
          "text": [
            "0\n",
            "1\n",
            "2\n",
            "3\n",
            "4\n",
            "5\n",
            "6\n",
            "7\n",
            "8\n",
            "9\n"
          ]
        }
      ]
    },
    {
      "cell_type": "code",
      "source": [
        "for x in ZRange(10):\n",
        "  print(x)"
      ],
      "metadata": {
        "colab": {
          "base_uri": "https://localhost:8080/"
        },
        "id": "zSq3o4MEZEhe",
        "outputId": "c797878e-b8b7-4bdd-c656-c586b710173c"
      },
      "execution_count": null,
      "outputs": [
        {
          "output_type": "stream",
          "name": "stdout",
          "text": [
            "0\n",
            "1\n",
            "2\n",
            "3\n",
            "4\n",
            "5\n",
            "6\n",
            "7\n",
            "8\n",
            "9\n"
          ]
        }
      ]
    },
    {
      "cell_type": "code",
      "source": [
        "def func():\n",
        "  yield 1\n",
        "  yield 2\n",
        "  yield 3\n",
        "  yield 4\n",
        "\n",
        "  "
      ],
      "metadata": {
        "id": "r2MBdsRrZ3Ie"
      },
      "execution_count": null,
      "outputs": []
    },
    {
      "cell_type": "code",
      "source": [
        "a=func()\n",
        "for x in a:\n",
        "  print(x)"
      ],
      "metadata": {
        "colab": {
          "base_uri": "https://localhost:8080/"
        },
        "id": "cnC3TYcWZ3Lb",
        "outputId": "2c63e88a-9b5b-418c-b876-8e96056d8c5a"
      },
      "execution_count": null,
      "outputs": [
        {
          "output_type": "stream",
          "name": "stdout",
          "text": [
            "1\n",
            "2\n",
            "3\n",
            "4\n"
          ]
        }
      ]
    },
    {
      "cell_type": "code",
      "source": [
        "for x in a:\n",
        "  print(x)"
      ],
      "metadata": {
        "id": "cWHJZTLzZ3Og"
      },
      "execution_count": null,
      "outputs": []
    },
    {
      "cell_type": "code",
      "source": [
        "gen_exp=(i**2 for i in range(5))"
      ],
      "metadata": {
        "id": "fFsIO9bjZ3Ro"
      },
      "execution_count": null,
      "outputs": []
    },
    {
      "cell_type": "code",
      "source": [
        "for x in gen_exp:\n",
        "  print(x)"
      ],
      "metadata": {
        "colab": {
          "base_uri": "https://localhost:8080/"
        },
        "id": "2KguCUSUZ3VK",
        "outputId": "7fb6d230-c02a-47b8-ede9-74b1a9d672eb"
      },
      "execution_count": null,
      "outputs": [
        {
          "output_type": "stream",
          "name": "stdout",
          "text": [
            "0\n",
            "1\n",
            "4\n",
            "9\n",
            "16\n"
          ]
        }
      ]
    },
    {
      "cell_type": "code",
      "source": [
        "for x in gen_exp:\n",
        "  print(x)"
      ],
      "metadata": {
        "id": "Kfqb7EbLZ3YU"
      },
      "execution_count": null,
      "outputs": []
    },
    {
      "cell_type": "code",
      "source": [
        ""
      ],
      "metadata": {
        "id": "V6BGsOuNZ3bm"
      },
      "execution_count": null,
      "outputs": []
    },
    {
      "cell_type": "code",
      "source": [
        "array=[[1,[[2]],[[[3]]],[[4],5]]\n",
        "result=lambda x:sum(map(result,x),[]) if isinstance(x,list) else [x]\n",
        "print(result)"
      ],
      "metadata": {
        "colab": {
          "base_uri": "https://localhost:8080/"
        },
        "id": "iJxR981XbsEL",
        "outputId": "450e41b4-846b-4e26-e92d-3995ab31ef54"
      },
      "execution_count": null,
      "outputs": [
        {
          "output_type": "stream",
          "name": "stdout",
          "text": [
            "<function <lambda> at 0x7f6bd2688950>\n"
          ]
        }
      ]
    },
    {
      "cell_type": "code",
      "source": [
        "sum([[1,2,3,4],[4,5],[])\n"
      ],
      "metadata": {
        "colab": {
          "base_uri": "https://localhost:8080/",
          "height": 131
        },
        "id": "oeQPbUJzbsHb",
        "outputId": "16488465-eccc-4455-80c2-1ffa7a6fe2c2"
      },
      "execution_count": null,
      "outputs": [
        {
          "output_type": "error",
          "ename": "SyntaxError",
          "evalue": "ignored",
          "traceback": [
            "\u001b[0;36m  File \u001b[0;32m\"<ipython-input-44-9f588c870d40>\"\u001b[0;36m, line \u001b[0;32m1\u001b[0m\n\u001b[0;31m    sum([[1,2,3,4],[4,5],[])\u001b[0m\n\u001b[0m                           ^\u001b[0m\n\u001b[0;31mSyntaxError\u001b[0m\u001b[0;31m:\u001b[0m invalid syntax\n"
          ]
        }
      ]
    },
    {
      "cell_type": "code",
      "source": [
        ""
      ],
      "metadata": {
        "id": "KgR4s1-3bsKZ"
      },
      "execution_count": null,
      "outputs": []
    },
    {
      "cell_type": "code",
      "source": [
        "def binary_search(arr,e1):\n",
        "        mid_point=len(arr)//2\n",
        "        start=0\n",
        "        end=len(arr)\n",
        "\n",
        "        while(start<end):\n",
        "            mid_point=(start+end) // 2\n",
        "            if(arr[mid_point] == e1):\n",
        "            return mid_point\n",
        "            elif arr[mid_point]>e1:\n",
        "            end=mid_point\n",
        "            else:\n",
        "            start=mid_point\n",
        "        return -1"
      ],
      "metadata": {
        "id": "BWJhr7BFbsNY"
      },
      "execution_count": null,
      "outputs": []
    },
    {
      "cell_type": "code",
      "source": [
        "def bin_search(data, key):\n",
        "  low = 0\n",
        "  high = len(data) - 1\n",
        "  mid = 0\n",
        "  while low < high:              #blank1\n",
        "    mid = (high - low) // 2          #blank2\n",
        "    if arr[mid] < key:\n",
        "      low = mid + 1\n",
        "    elif arr[mid] > key:\n",
        "      high = mid - 1\n",
        "    else:\n",
        "      return mid\n",
        "  return \"Element not found\"\n",
        "\n",
        "arr=[1,2,3,4,5,6,7]\n",
        "bin_search(arr,5)"
      ],
      "metadata": {
        "id": "s619l5pdbsQw",
        "colab": {
          "base_uri": "https://localhost:8080/",
          "height": 322
        },
        "outputId": "2c76798b-9124-4988-cb66-6de5f002692a"
      },
      "execution_count": 1,
      "outputs": [
        {
          "output_type": "error",
          "ename": "KeyboardInterrupt",
          "evalue": "ignored",
          "traceback": [
            "\u001b[0;31m---------------------------------------------------------------------------\u001b[0m",
            "\u001b[0;31mKeyboardInterrupt\u001b[0m                         Traceback (most recent call last)",
            "\u001b[0;32m<ipython-input-1-d024b7802d99>\u001b[0m in \u001b[0;36m<module>\u001b[0;34m()\u001b[0m\n\u001b[1;32m     14\u001b[0m \u001b[0;34m\u001b[0m\u001b[0m\n\u001b[1;32m     15\u001b[0m \u001b[0marr\u001b[0m\u001b[0;34m=\u001b[0m\u001b[0;34m[\u001b[0m\u001b[0;36m1\u001b[0m\u001b[0;34m,\u001b[0m\u001b[0;36m2\u001b[0m\u001b[0;34m,\u001b[0m\u001b[0;36m3\u001b[0m\u001b[0;34m,\u001b[0m\u001b[0;36m4\u001b[0m\u001b[0;34m,\u001b[0m\u001b[0;36m5\u001b[0m\u001b[0;34m,\u001b[0m\u001b[0;36m6\u001b[0m\u001b[0;34m,\u001b[0m\u001b[0;36m7\u001b[0m\u001b[0;34m]\u001b[0m\u001b[0;34m\u001b[0m\u001b[0;34m\u001b[0m\u001b[0m\n\u001b[0;32m---> 16\u001b[0;31m \u001b[0mbin_search\u001b[0m\u001b[0;34m(\u001b[0m\u001b[0marr\u001b[0m\u001b[0;34m,\u001b[0m\u001b[0;36m5\u001b[0m\u001b[0;34m)\u001b[0m\u001b[0;34m\u001b[0m\u001b[0;34m\u001b[0m\u001b[0m\n\u001b[0m",
            "\u001b[0;32m<ipython-input-1-d024b7802d99>\u001b[0m in \u001b[0;36mbin_search\u001b[0;34m(data, key)\u001b[0m\n\u001b[1;32m      6\u001b[0m     \u001b[0mmid\u001b[0m \u001b[0;34m=\u001b[0m \u001b[0;34m(\u001b[0m\u001b[0mhigh\u001b[0m \u001b[0;34m-\u001b[0m \u001b[0mlow\u001b[0m\u001b[0;34m)\u001b[0m \u001b[0;34m//\u001b[0m \u001b[0;36m2\u001b[0m          \u001b[0;31m#blank2\u001b[0m\u001b[0;34m\u001b[0m\u001b[0;34m\u001b[0m\u001b[0m\n\u001b[1;32m      7\u001b[0m     \u001b[0;32mif\u001b[0m \u001b[0marr\u001b[0m\u001b[0;34m[\u001b[0m\u001b[0mmid\u001b[0m\u001b[0;34m]\u001b[0m \u001b[0;34m<\u001b[0m \u001b[0mkey\u001b[0m\u001b[0;34m:\u001b[0m\u001b[0;34m\u001b[0m\u001b[0;34m\u001b[0m\u001b[0m\n\u001b[0;32m----> 8\u001b[0;31m       \u001b[0mlow\u001b[0m \u001b[0;34m=\u001b[0m \u001b[0mmid\u001b[0m \u001b[0;34m+\u001b[0m \u001b[0;36m1\u001b[0m\u001b[0;34m\u001b[0m\u001b[0;34m\u001b[0m\u001b[0m\n\u001b[0m\u001b[1;32m      9\u001b[0m     \u001b[0;32melif\u001b[0m \u001b[0marr\u001b[0m\u001b[0;34m[\u001b[0m\u001b[0mmid\u001b[0m\u001b[0;34m]\u001b[0m \u001b[0;34m>\u001b[0m \u001b[0mkey\u001b[0m\u001b[0;34m:\u001b[0m\u001b[0;34m\u001b[0m\u001b[0;34m\u001b[0m\u001b[0m\n\u001b[1;32m     10\u001b[0m       \u001b[0mhigh\u001b[0m \u001b[0;34m=\u001b[0m \u001b[0mmid\u001b[0m \u001b[0;34m-\u001b[0m \u001b[0;36m1\u001b[0m\u001b[0;34m\u001b[0m\u001b[0;34m\u001b[0m\u001b[0m\n",
            "\u001b[0;31mKeyboardInterrupt\u001b[0m: "
          ]
        }
      ]
    },
    {
      "cell_type": "code",
      "source": [
        ""
      ],
      "metadata": {
        "id": "l43Ehm7absUX"
      },
      "execution_count": null,
      "outputs": []
    },
    {
      "cell_type": "code",
      "source": [
        ""
      ],
      "metadata": {
        "id": "h73xv_NjbsXk"
      },
      "execution_count": null,
      "outputs": []
    },
    {
      "cell_type": "code",
      "source": [
        ""
      ],
      "metadata": {
        "id": "8ZtAIxiBZ3e4"
      },
      "execution_count": null,
      "outputs": []
    }
  ]
}