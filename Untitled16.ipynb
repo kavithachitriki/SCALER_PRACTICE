{
  "cells": [
    {
      "cell_type": "markdown",
      "metadata": {
        "id": "view-in-github",
        "colab_type": "text"
      },
      "source": [
        "<a href=\"https://colab.research.google.com/github/kavithachitriki/SCALER_PRACTICE/blob/main/Untitled16.ipynb\" target=\"_parent\"><img src=\"https://colab.research.google.com/assets/colab-badge.svg\" alt=\"Open In Colab\"/></a>"
      ]
    },
    {
      "cell_type": "code",
      "execution_count": null,
      "metadata": {
        "colab": {
          "base_uri": "https://localhost:8080/"
        },
        "id": "TBz_ytPi-yrz",
        "outputId": "0668a8b9-e461-4b2f-8b84-74076efd48a7"
      },
      "outputs": [
        {
          "name": "stdout",
          "output_type": "stream",
          "text": [
            "2\n"
          ]
        }
      ],
      "source": [
        "print(5>>1)"
      ]
    },
    {
      "cell_type": "code",
      "execution_count": null,
      "metadata": {
        "colab": {
          "base_uri": "https://localhost:8080/"
        },
        "id": "tC1Uq4bLaMio",
        "outputId": "d1710805-b5c0-414a-d38c-9305eda9f37b"
      },
      "outputs": [
        {
          "name": "stdout",
          "output_type": "stream",
          "text": [
            "10\n"
          ]
        }
      ],
      "source": [
        "print(5<<1)"
      ]
    },
    {
      "cell_type": "code",
      "execution_count": null,
      "metadata": {
        "colab": {
          "base_uri": "https://localhost:8080/"
        },
        "id": "SlWlENOoanob",
        "outputId": "8bc22143-bdc2-4bfc-de70-439d037cc56e"
      },
      "outputs": [
        {
          "name": "stdout",
          "output_type": "stream",
          "text": [
            "0\n"
          ]
        }
      ],
      "source": [
        "print(5 >> 100000)"
      ]
    },
    {
      "cell_type": "code",
      "execution_count": null,
      "metadata": {
        "colab": {
          "base_uri": "https://localhost:8080/"
        },
        "id": "lUPciMULa6Ne",
        "outputId": "9d68fde4-8b6d-4033-f297-5e3155f06798"
      },
      "outputs": [
        {
          "data": {
            "text/plain": [
              "0"
            ]
          },
          "execution_count": 5,
          "metadata": {},
          "output_type": "execute_result"
        }
      ],
      "source": [
        "8&5"
      ]
    },
    {
      "cell_type": "code",
      "execution_count": null,
      "metadata": {
        "id": "O6618O5RbUSo"
      },
      "outputs": [],
      "source": [
        ""
      ]
    },
    {
      "cell_type": "code",
      "execution_count": null,
      "metadata": {
        "colab": {
          "base_uri": "https://localhost:8080/"
        },
        "id": "5cXYkIE3bUVV",
        "outputId": "01673b95-4ee8-4704-effc-c63ec705860f"
      },
      "outputs": [
        {
          "data": {
            "text/plain": [
              "13"
            ]
          },
          "execution_count": 6,
          "metadata": {},
          "output_type": "execute_result"
        }
      ],
      "source": [
        "8|5"
      ]
    },
    {
      "cell_type": "code",
      "execution_count": null,
      "metadata": {
        "colab": {
          "base_uri": "https://localhost:8080/"
        },
        "id": "f9ghYRKYbx-A",
        "outputId": "b15c2dfb-2f67-4702-8a6e-750985b43be7"
      },
      "outputs": [
        {
          "data": {
            "text/plain": [
              "13"
            ]
          },
          "execution_count": 7,
          "metadata": {},
          "output_type": "execute_result"
        }
      ],
      "source": [
        "8^5"
      ]
    },
    {
      "cell_type": "code",
      "execution_count": null,
      "metadata": {
        "colab": {
          "base_uri": "https://localhost:8080/"
        },
        "id": "gOPWT02xb6X5",
        "outputId": "4a25aa35-4a63-4610-b8b7-7b31523e2e8c"
      },
      "outputs": [
        {
          "data": {
            "text/plain": [
              "-6"
            ]
          },
          "execution_count": 8,
          "metadata": {},
          "output_type": "execute_result"
        }
      ],
      "source": [
        "~5"
      ]
    },
    {
      "cell_type": "code",
      "execution_count": null,
      "metadata": {
        "colab": {
          "background_save": true
        },
        "id": "Kv9Etjl5b6aW",
        "outputId": "66d9ac0f-c8fd-4968-c4ea-8347f0c05158"
      },
      "outputs": [
        {
          "data": {
            "text/plain": [
              "4"
            ]
          },
          "execution_count": null,
          "metadata": {},
          "output_type": "execute_result"
        }
      ],
      "source": [
        "0b100"
      ]
    },
    {
      "cell_type": "code",
      "execution_count": null,
      "metadata": {
        "id": "_Q8IQx7qb6cr",
        "colab": {
          "base_uri": "https://localhost:8080/"
        },
        "outputId": "7c817fd2-fee0-4119-dd7a-a0145faa8dc4"
      },
      "outputs": [
        {
          "output_type": "execute_result",
          "data": {
            "text/plain": [
              "61"
            ]
          },
          "metadata": {},
          "execution_count": 2
        }
      ],
      "source": [
        "0o75"
      ]
    },
    {
      "cell_type": "code",
      "execution_count": null,
      "metadata": {
        "id": "uN3dIL2Eb6fW",
        "colab": {
          "base_uri": "https://localhost:8080/"
        },
        "outputId": "7066a5b5-2473-4015-f093-3b3d66d5bac8"
      },
      "outputs": [
        {
          "output_type": "execute_result",
          "data": {
            "text/plain": [
              "2654"
            ]
          },
          "metadata": {},
          "execution_count": 3
        }
      ],
      "source": [
        "0xa5e"
      ]
    },
    {
      "cell_type": "code",
      "execution_count": null,
      "metadata": {
        "id": "izoV2G98b6hu",
        "colab": {
          "base_uri": "https://localhost:8080/"
        },
        "outputId": "cf835cb0-e6b6-4161-cfd4-6830554ac9dd"
      },
      "outputs": [
        {
          "output_type": "execute_result",
          "data": {
            "text/plain": [
              "[array('l', [2, 4]), array('l', [5, 8])]"
            ]
          },
          "metadata": {},
          "execution_count": 56
        }
      ],
      "source": [
        "\n",
        "import array as arr\n",
        "def add_matrices(arr1, arr2):\n",
        "  \n",
        "  if(len(arr1) != len(arr2)):\n",
        "    return None\n",
        "  pyarr=[]\n",
        "  for i in range(len(arr1)):\n",
        "    l=[]\n",
        "    for j in range(len(arr2)):\n",
        "      l.append(arr1[i][j]+arr2[i][j])\n",
        "    pyarr.append(arr.array('l', l))\n",
        "  return pyarr\n",
        "\n",
        "arr1=[[1,2],[1,3]]\n",
        "arr2=[[1,2],[4,5]]\n",
        "\n",
        "add_matrices(arr1,arr2)"
      ]
    },
    {
      "cell_type": "code",
      "execution_count": null,
      "metadata": {
        "id": "yrNq9bk9b6kl",
        "colab": {
          "base_uri": "https://localhost:8080/",
          "height": 136
        },
        "outputId": "804f0644-0247-492a-c183-92f08477a45b"
      },
      "outputs": [
        {
          "output_type": "error",
          "ename": "IndentationError",
          "evalue": "ignored",
          "traceback": [
            "\u001b[0;36m  File \u001b[0;32m\"<ipython-input-46-12b62629a90f>\"\u001b[0;36m, line \u001b[0;32m17\u001b[0m\n\u001b[0;31m    return pyarr\u001b[0m\n\u001b[0m                ^\u001b[0m\n\u001b[0;31mIndentationError\u001b[0m\u001b[0;31m:\u001b[0m unindent does not match any outer indentation level\n"
          ]
        }
      ],
      "source": [
        "from array import array\n",
        "def add_matrices(arr1, arr2):\n",
        "   \n",
        "    #YOUR CODE GOES HERE\n",
        "    if(len(arr1) != len(arr2)):\n",
        "        return None\n",
        "    sum=[[0,0,0],[0,0,0],[0,0,0]]\n",
        "    l=[0,0,0]\n",
        "  \n",
        "    sumarr=arr.array('l', l)\n",
        "    pyarr=[sumarr,sumarr,sumarr]\n",
        "\n",
        "    for i in range(len(arr1)):\n",
        "        for j in range(len(arr2[0])):\n",
        "      \n",
        "            pyarr[i][j]=arr1[i][j]+arr2[i][j]\n",
        "    return pyarr"
      ]
    },
    {
      "cell_type": "code",
      "execution_count": null,
      "metadata": {
        "id": "KJk4eXmfb6mq"
      },
      "outputs": [],
      "source": [
        "from array import array\n",
        "array2d = [array('i', (i*j for i in range(1,4))) for j in range(1,3)]"
      ]
    },
    {
      "cell_type": "code",
      "execution_count": null,
      "metadata": {
        "id": "IcWqgrDvb6pI",
        "colab": {
          "base_uri": "https://localhost:8080/"
        },
        "outputId": "76bce516-5feb-4e29-f60c-a1083fc5c3a1"
      },
      "outputs": [
        {
          "output_type": "execute_result",
          "data": {
            "text/plain": [
              "6"
            ]
          },
          "metadata": {},
          "execution_count": 58
        }
      ],
      "source": [
        "array2d[1][2]"
      ]
    },
    {
      "cell_type": "code",
      "source": [
        "from array import array\n",
        "arr = array('i', [1, 2, 3, 1, 4, 7, 9, 12])\n",
        "print(arr[1:4][1])"
      ],
      "metadata": {
        "colab": {
          "base_uri": "https://localhost:8080/"
        },
        "id": "nthbxWmjmyCk",
        "outputId": "2eb16a13-94e6-43ab-d71b-ad7de81cd0e5"
      },
      "execution_count": null,
      "outputs": [
        {
          "output_type": "stream",
          "name": "stdout",
          "text": [
            "3\n"
          ]
        }
      ]
    },
    {
      "cell_type": "code",
      "source": [
        "from array import array\n",
        "arr= array(\"i\",[2,1,3,4,7,6,4,6,9])\n",
        "for i in range(len(arr)+1):\n",
        "  if arr[i] in arr[i+1:]:\n",
        "    break"
      ],
      "metadata": {
        "id": "ET7K9RHRmyD5"
      },
      "execution_count": null,
      "outputs": []
    },
    {
      "cell_type": "code",
      "source": [
        "from array import array\n",
        "array2d = [array('f', ((i+5)/(j-3) for i in range(3))) for j in range(3)]\n",
        "c = 0\n",
        "for i in range(3):\n",
        "  for j in range(3):\n",
        "    if array2d[i][j] <= -3:\n",
        "      c += 1\n",
        "\n",
        "c"
      ],
      "metadata": {
        "colab": {
          "base_uri": "https://localhost:8080/"
        },
        "id": "gIFoHok5myLd",
        "outputId": "2200bdef-fcb2-451d-8ad7-45b3f1a4994c"
      },
      "execution_count": null,
      "outputs": [
        {
          "output_type": "execute_result",
          "data": {
            "text/plain": [
              "5"
            ]
          },
          "metadata": {},
          "execution_count": 62
        }
      ]
    },
    {
      "cell_type": "code",
      "source": [
        "from array import array\n",
        "import array as arr\n",
        "def add_matrices(arr1, arr2):\n",
        "  \n",
        "  if(len(arr1) != len(arr2)):\n",
        "    return None\n",
        "  pyarr=[]\n",
        "  try:\n",
        "    if len(arr1)==len(arr2) :\n",
        "      for i in range(len(arr1)):\n",
        "        if len(arr1[i]) != len(arr2[i]):\n",
        "          return -1\n",
        "        l=[]\n",
        "        for j in range(len(arr2[0])):\n",
        "          l.append(arr1[i][j]+arr2[i][j])\n",
        "        pyarr.append(arr.array('l', l))\n",
        "      return pyarr\n",
        "    else:\n",
        "      return None\n",
        "  except:\n",
        "    return None\n",
        "  return None\n",
        "\n",
        "arr1=[[1,2],[3,4]]\n",
        "arr2=[[1,1],[2]]\n",
        "add_matrices(arr1,arr2)"
      ],
      "metadata": {
        "colab": {
          "base_uri": "https://localhost:8080/"
        },
        "id": "TGBX7QBFmyOa",
        "outputId": "60753f58-00af-4a70-b98d-932017edcd9b"
      },
      "execution_count": null,
      "outputs": [
        {
          "output_type": "execute_result",
          "data": {
            "text/plain": [
              "-1"
            ]
          },
          "metadata": {},
          "execution_count": 71
        }
      ]
    },
    {
      "cell_type": "code",
      "source": [
        "from array import array\n",
        "\n",
        "import array as arr\n",
        "\n",
        "def add_matrices(arr1, arr2):\n",
        "\n",
        "  if(len(arr1) != len(arr2)):\n",
        "\n",
        "    return None\n",
        "\n",
        "  print(\"arr1\",arr1[0])\n",
        "  print(\"arr2\",arr2[0])\n",
        "\n",
        "  if len(arr1[0])!=len(arr2[0]):\n",
        "\n",
        "    return None\n",
        "\n",
        "  pyarr=[]\n",
        "\n",
        "  try:\n",
        "\n",
        "    if len(arr1)==len(arr2) :\n",
        "\n",
        "      for i in range(len(arr1)):\n",
        "\n",
        "        if len(arr1[i]) != len(arr2[i]):\n",
        "\n",
        "          return -1\n",
        "\n",
        "        l=[]\n",
        "\n",
        "        for j in range(len(arr2[0])):\n",
        "\n",
        "          l.append(arr1[i][j]+arr2[i][j])\n",
        "\n",
        "        pyarr.append(arr.array('l', l))\n",
        "\n",
        "      return pyarr\n",
        "\n",
        "    else:\n",
        "\n",
        "      return None\n",
        "\n",
        "  except:\n",
        "\n",
        "    return None\n",
        "\n",
        "  return None\n",
        "\n",
        "arr1=[[1,2,3],[1,2,3]]\n",
        "arr2=[[1,2,3],[4,5]]\n",
        "\n",
        "add_matrices(arr1,arr2)"
      ],
      "metadata": {
        "colab": {
          "base_uri": "https://localhost:8080/"
        },
        "id": "WEP7P_-dA0dU",
        "outputId": "abf5e852-37a0-4858-acde-1e7c1855cf80"
      },
      "execution_count": null,
      "outputs": [
        {
          "output_type": "stream",
          "name": "stdout",
          "text": [
            "arr1 [1, 2, 3]\n",
            "arr2 [1, 2, 3]\n"
          ]
        },
        {
          "output_type": "execute_result",
          "data": {
            "text/plain": [
              "-1"
            ]
          },
          "metadata": {},
          "execution_count": 83
        }
      ]
    },
    {
      "cell_type": "code",
      "source": [
        "1 2\n",
        "3 4\n",
        "1 1\n",
        "2\n",
        "\n",
        "Expected type 2d array or None, found "
      ],
      "metadata": {
        "id": "6r6V62HuA0gG"
      },
      "execution_count": null,
      "outputs": []
    },
    {
      "cell_type": "code",
      "source": [
        "is it not 1108?\n",
        "1 byte=1 unit of memory\n",
        "15 columns=15*8=120\n",
        "8 rows=120"
      ],
      "metadata": {
        "id": "WvE2VvrAA0jA"
      },
      "execution_count": null,
      "outputs": []
    },
    {
      "cell_type": "code",
      "source": [
        "from array import array\n",
        "\n",
        "X= [array(\"i\",[2,1,49,8,0]),\n",
        " array(\"i\",[11,24,4,65,5])]\n",
        "\n",
        "result = [[X[j][i] for j in range('''blank1''')] for i in range('''blank2''')]\n",
        "t=[]\n",
        "transpose= [x for x in result]\n",
        "print(transpose)"
      ],
      "metadata": {
        "colab": {
          "base_uri": "https://localhost:8080/",
          "height": 247
        },
        "id": "aMjHECmSA0lj",
        "outputId": "54210f89-7969-4709-e025-9f745effd905"
      },
      "execution_count": null,
      "outputs": [
        {
          "output_type": "error",
          "ename": "TypeError",
          "evalue": "ignored",
          "traceback": [
            "\u001b[0;31m---------------------------------------------------------------------------\u001b[0m",
            "\u001b[0;31mTypeError\u001b[0m                                 Traceback (most recent call last)",
            "\u001b[0;32m<ipython-input-73-eaf309bb5ce5>\u001b[0m in \u001b[0;36m<module>\u001b[0;34m()\u001b[0m\n\u001b[1;32m      4\u001b[0m  array(\"i\",[11,24,4,65,5])]\n\u001b[1;32m      5\u001b[0m \u001b[0;34m\u001b[0m\u001b[0m\n\u001b[0;32m----> 6\u001b[0;31m \u001b[0mresult\u001b[0m \u001b[0;34m=\u001b[0m \u001b[0;34m[\u001b[0m\u001b[0;34m[\u001b[0m\u001b[0mX\u001b[0m\u001b[0;34m[\u001b[0m\u001b[0mj\u001b[0m\u001b[0;34m]\u001b[0m\u001b[0;34m[\u001b[0m\u001b[0mi\u001b[0m\u001b[0;34m]\u001b[0m \u001b[0;32mfor\u001b[0m \u001b[0mj\u001b[0m \u001b[0;32min\u001b[0m \u001b[0mrange\u001b[0m\u001b[0;34m(\u001b[0m\u001b[0;34m'''blank1'''\u001b[0m\u001b[0;34m)\u001b[0m\u001b[0;34m]\u001b[0m \u001b[0;32mfor\u001b[0m \u001b[0mi\u001b[0m \u001b[0;32min\u001b[0m \u001b[0mrange\u001b[0m\u001b[0;34m(\u001b[0m\u001b[0;34m'''blank2'''\u001b[0m\u001b[0;34m)\u001b[0m\u001b[0;34m]\u001b[0m\u001b[0;34m\u001b[0m\u001b[0;34m\u001b[0m\u001b[0m\n\u001b[0m\u001b[1;32m      7\u001b[0m \u001b[0mt\u001b[0m\u001b[0;34m=\u001b[0m\u001b[0;34m[\u001b[0m\u001b[0;34m]\u001b[0m\u001b[0;34m\u001b[0m\u001b[0;34m\u001b[0m\u001b[0m\n\u001b[1;32m      8\u001b[0m \u001b[0mtranspose\u001b[0m\u001b[0;34m=\u001b[0m \u001b[0;34m[\u001b[0m\u001b[0mx\u001b[0m \u001b[0;32mfor\u001b[0m \u001b[0mx\u001b[0m \u001b[0;32min\u001b[0m \u001b[0mresult\u001b[0m\u001b[0;34m]\u001b[0m\u001b[0;34m\u001b[0m\u001b[0;34m\u001b[0m\u001b[0m\n",
            "\u001b[0;31mTypeError\u001b[0m: 'str' object cannot be interpreted as an integer"
          ]
        }
      ]
    },
    {
      "cell_type": "code",
      "source": [
        "def maxSubArray(A):\n",
        "  sum=0\n",
        "  for i in A:\n",
        "    sum=sum+i\n",
        "  return sum\n",
        "\n",
        "\n",
        "\n"
      ],
      "metadata": {
        "id": "ytqrF9e6A0o-"
      },
      "execution_count": null,
      "outputs": []
    },
    {
      "cell_type": "code",
      "source": [
        "num=\"001111\"\n",
        "x = len(num) - num.index(\"1\")\n",
        "x\n"
      ],
      "metadata": {
        "colab": {
          "base_uri": "https://localhost:8080/"
        },
        "id": "gnAkh8bZOwFU",
        "outputId": "e1e3b10a-090d-49fe-8323-1f9eb56f3ef3"
      },
      "execution_count": null,
      "outputs": [
        {
          "output_type": "execute_result",
          "data": {
            "text/plain": [
              "4"
            ]
          },
          "metadata": {},
          "execution_count": 4
        }
      ]
    },
    {
      "cell_type": "code",
      "source": [
        "def number_of_1s(num, left, right):\n",
        "  if left>0 and  right>0 and left>right:\n",
        "        \n",
        "        x=len(num) - num.index(\"1\")\n",
        "        return x\n",
        "\n",
        "number_of_1s(00000)     \n"
      ],
      "metadata": {
        "id": "ecg8oVYyOwH2",
        "colab": {
          "base_uri": "https://localhost:8080/",
          "height": 210
        },
        "outputId": "1637d34b-3324-407e-d232-db8e0e90720d"
      },
      "execution_count": 5,
      "outputs": [
        {
          "output_type": "error",
          "ename": "TypeError",
          "evalue": "ignored",
          "traceback": [
            "\u001b[0;31m---------------------------------------------------------------------------\u001b[0m",
            "\u001b[0;31mTypeError\u001b[0m                                 Traceback (most recent call last)",
            "\u001b[0;32m<ipython-input-5-9ca13cd1a9d5>\u001b[0m in \u001b[0;36m<module>\u001b[0;34m()\u001b[0m\n\u001b[1;32m      5\u001b[0m         \u001b[0;32mreturn\u001b[0m \u001b[0mx\u001b[0m\u001b[0;34m\u001b[0m\u001b[0;34m\u001b[0m\u001b[0m\n\u001b[1;32m      6\u001b[0m \u001b[0;34m\u001b[0m\u001b[0m\n\u001b[0;32m----> 7\u001b[0;31m \u001b[0mnumber_of_1s\u001b[0m\u001b[0;34m(\u001b[0m\u001b[0;36m00000\u001b[0m\u001b[0;34m)\u001b[0m\u001b[0;34m\u001b[0m\u001b[0;34m\u001b[0m\u001b[0m\n\u001b[0m",
            "\u001b[0;31mTypeError\u001b[0m: number_of_1s() missing 2 required positional arguments: 'left' and 'right'"
          ]
        }
      ]
    },
    {
      "cell_type": "code",
      "source": [
        "def number_of_1s(num, left, right):\n",
        "        if \"1\" not in num:\n",
        "         \n",
        "          return 0\n",
        "        \n",
        "           \n",
        "\n",
        "        if left == right and left==0:\n",
        "          return 0\n",
        "        if left > right:\n",
        "          return 0\n",
        "        if left == right:\n",
        "          return num.index(\"1\")\n",
        "        if len(num) == 1:\n",
        "             return num.index(\"1\")\n",
        "       \n",
        "        x=len(num) - num.index(\"1\")\n",
        "        return x\n",
        "\n",
        "print(number_of_1s(\"00000\",0,4))\n"
      ],
      "metadata": {
        "id": "Jc_NTBpqOwKR",
        "colab": {
          "base_uri": "https://localhost:8080/"
        },
        "outputId": "1ba9f7ab-5f43-4ee2-e712-0d8efff7de22"
      },
      "execution_count": 20,
      "outputs": [
        {
          "output_type": "stream",
          "name": "stdout",
          "text": [
            "0\n"
          ]
        }
      ]
    },
    {
      "cell_type": "code",
      "source": [
        "def isPower_of_Three(n):\n",
        " \n",
        "    if (n <= 0):\n",
        "        return False\n",
        "    if (n % 3 == 0):\n",
        "        return isPower_of_Three(n // 3)\n",
        "    if (n == 1):\n",
        "        return True\n",
        "    return False\n",
        " \n",
        " # Driver code\n",
        "isPower_of_Three(4)\n",
        " "
      ],
      "metadata": {
        "id": "0ckHZR7uOwM8",
        "colab": {
          "base_uri": "https://localhost:8080/"
        },
        "outputId": "7b546c03-ad5e-41aa-eda8-735ee4314d71"
      },
      "execution_count": 23,
      "outputs": [
        {
          "output_type": "execute_result",
          "data": {
            "text/plain": [
              "False"
            ]
          },
          "metadata": {},
          "execution_count": 23
        }
      ]
    },
    {
      "cell_type": "code",
      "source": [
        "def isIsomorphic(str1, str2):          \n",
        "    dict_str1={}\n",
        "    dict_str2={}\n",
        "    \n",
        "    for i,value in enumerate(str1):\n",
        "        print(\"i=\",i)\n",
        "        print(\"value=\",value)\n",
        "        print(\"dict_str1.get(value,[])=\",dict_str1.get(value,[]))\n",
        "        dict_str1[value]=dict_str1.get(value,[])+[i]\n",
        "    \n",
        "    print(dict_str1)\n",
        "    \n",
        "    for j,value in enumerate(str2):\n",
        "        dict_str2[value]=dict_str2.get(value,[])+[j]\n",
        "    print(dict_str2)\n",
        "        \n",
        "    print(\"dict1 values--->\",sorted(dict_str1.values()))\n",
        "    print(\"dict2 values--->\",sorted(dict_str2.values()))\n",
        "    if sorted(dict_str1.values()) == sorted(dict_str2.values()):\n",
        "        return True\n",
        "    else:\n",
        "        return False\n",
        "\n",
        "isIsomorphic(\"lelo\",\"abcd\")"
      ],
      "metadata": {
        "id": "FSCob6F2OwSN",
        "colab": {
          "base_uri": "https://localhost:8080/"
        },
        "outputId": "a97ee4ed-e362-4853-f995-9801f577e323"
      },
      "execution_count": 46,
      "outputs": [
        {
          "output_type": "stream",
          "name": "stdout",
          "text": [
            "i= 0\n",
            "value= l\n",
            "dict_str1.get(value,[])= []\n",
            "i= 1\n",
            "value= e\n",
            "dict_str1.get(value,[])= []\n",
            "i= 2\n",
            "value= l\n",
            "dict_str1.get(value,[])= [0]\n",
            "i= 3\n",
            "value= o\n",
            "dict_str1.get(value,[])= []\n",
            "{'l': [0, 2], 'e': [1], 'o': [3]}\n",
            "{'a': [0], 'b': [1], 'c': [2], 'd': [3]}\n",
            "dict1 values---> [[0, 2], [1], [3]]\n",
            "dict2 values---> [[0], [1], [2], [3]]\n"
          ]
        },
        {
          "output_type": "execute_result",
          "data": {
            "text/plain": [
              "False"
            ]
          },
          "metadata": {},
          "execution_count": 46
        }
      ]
    },
    {
      "cell_type": "code",
      "source": [
        ""
      ],
      "metadata": {
        "id": "w9SO9EWpOwTS"
      },
      "execution_count": null,
      "outputs": []
    },
    {
      "cell_type": "code",
      "source": [
        ""
      ],
      "metadata": {
        "id": "7YZNz3vWOwVo"
      },
      "execution_count": null,
      "outputs": []
    },
    {
      "cell_type": "code",
      "source": [
        ""
      ],
      "metadata": {
        "id": "6n4hIMU3OwYj"
      },
      "execution_count": null,
      "outputs": []
    },
    {
      "cell_type": "code",
      "source": [
        ""
      ],
      "metadata": {
        "id": "J1FKaaDtOwbJ"
      },
      "execution_count": null,
      "outputs": []
    },
    {
      "cell_type": "code",
      "source": [
        ""
      ],
      "metadata": {
        "id": "HW_MEYCtOwew"
      },
      "execution_count": null,
      "outputs": []
    },
    {
      "cell_type": "code",
      "source": [
        ""
      ],
      "metadata": {
        "id": "SkF6TR_bOwg-"
      },
      "execution_count": null,
      "outputs": []
    },
    {
      "cell_type": "code",
      "source": [
        ""
      ],
      "metadata": {
        "id": "guDQnfV7OwkW"
      },
      "execution_count": null,
      "outputs": []
    },
    {
      "cell_type": "code",
      "source": [
        ""
      ],
      "metadata": {
        "id": "f_9BgsyZOwm1"
      },
      "execution_count": null,
      "outputs": []
    },
    {
      "cell_type": "code",
      "source": [
        ""
      ],
      "metadata": {
        "id": "7xVGeCMkOwpa"
      },
      "execution_count": null,
      "outputs": []
    },
    {
      "cell_type": "code",
      "source": [
        "A = [1, 2, 3, 4, -10] \n",
        "maxSubArray(A)"
      ],
      "metadata": {
        "colab": {
          "base_uri": "https://localhost:8080/"
        },
        "id": "Af67owhVA0r-",
        "outputId": "4d50ef46-a2a3-44e7-d8e5-e2f4cdc7c160"
      },
      "execution_count": null,
      "outputs": [
        {
          "output_type": "execute_result",
          "data": {
            "text/plain": [
              "0"
            ]
          },
          "metadata": {},
          "execution_count": 85
        }
      ]
    }
  ],
  "metadata": {
    "colab": {
      "name": "Untitled16.ipynb",
      "provenance": [],
      "authorship_tag": "ABX9TyNMGbPOTQBU1H+vFLd2vPTW",
      "include_colab_link": true
    },
    "kernelspec": {
      "display_name": "Python 3",
      "name": "python3"
    },
    "language_info": {
      "name": "python"
    }
  },
  "nbformat": 4,
  "nbformat_minor": 0
}