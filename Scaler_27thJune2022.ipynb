{
  "nbformat": 4,
  "nbformat_minor": 0,
  "metadata": {
    "colab": {
      "name": "Scaler_27thJune2022.ipynb",
      "provenance": [],
      "authorship_tag": "ABX9TyPk6Qka3gLBb5mKwf7VKycK",
      "include_colab_link": true
    },
    "kernelspec": {
      "name": "python3",
      "display_name": "Python 3"
    },
    "language_info": {
      "name": "python"
    }
  },
  "cells": [
    {
      "cell_type": "markdown",
      "metadata": {
        "id": "view-in-github",
        "colab_type": "text"
      },
      "source": [
        "<a href=\"https://colab.research.google.com/github/kavithachitriki/SCALER_PRACTICE/blob/main/Scaler_27thJune2022.ipynb\" target=\"_parent\"><img src=\"https://colab.research.google.com/assets/colab-badge.svg\" alt=\"Open In Colab\"/></a>"
      ]
    },
    {
      "cell_type": "code",
      "execution_count": 18,
      "metadata": {
        "colab": {
          "base_uri": "https://localhost:8080/"
        },
        "id": "aHgOe17TkLpA",
        "outputId": "8a4451da-cb96-45e7-f08e-320f396728db"
      },
      "outputs": [
        {
          "output_type": "stream",
          "name": "stdout",
          "text": [
            "[[0.  0.7 5.  5.7]\n",
            " [1.3 2.  6.3 7. ]\n",
            " [1.  1.7 6.  7. ]\n",
            " [2.3 3.  8.  9. ]]\n"
          ]
        }
      ],
      "source": [
        "import numpy as np\n",
        "def combine(inpt_lis):\n",
        "    '''input: inpt_lis- Its a list of length of 4 and contains tuples.\n",
        "        Output: A 2d-numpy array is expected to be returned'''\n",
        "        \n",
        "    ans=None\n",
        "    counter=0\n",
        "    mat0=None\n",
        "    mat1=None\n",
        "    mat2=None\n",
        "    mat3=None\n",
        "    for x in inpt_lis:\n",
        "      if(counter==0):\n",
        "        mat0=np.linspace(x[0],x[1],num=4)\n",
        "        mat0=np.round(mat0,1).reshape(2,2)\n",
        "      if(counter==1):\n",
        "        mat1=np.linspace(x[0],x[1],num=4)\n",
        "        mat1=np.round(mat1,1).reshape(2,2)\n",
        "      if(counter==2):\n",
        "        mat2=np.linspace(x[0],x[1],num=4)\n",
        "        mat2=np.round(mat2,1).reshape(2,2)\n",
        "      if(counter==3):\n",
        "        mat3=np.linspace(x[0],x[1],num=4)\n",
        "        mat3=np.round(mat3,1).reshape(2,2)\n",
        "      counter+=1\n",
        "    \n",
        "\n",
        "\n",
        "\n",
        "    arr=np.hstack((mat0,mat1))\n",
        "    arr1=np.hstack((mat2,mat3))\n",
        "    result=np.vstack((arr,arr1))\n",
        "    print(result)\n",
        "\n",
        "       \n",
        "\n",
        "    return ans\n",
        "\n",
        "\n",
        "combine([(0,2),(5,7),(1,3),(6,9)])"
      ]
    }
  ]
}